{
 "cells": [
  {
   "cell_type": "code",
   "execution_count": 1,
   "id": "74d76077-90a8-431c-bc07-547730146e26",
   "metadata": {
    "execution": {
     "iopub.execute_input": "2024-08-12T20:56:35.948711Z",
     "iopub.status.busy": "2024-08-12T20:56:35.948399Z",
     "iopub.status.idle": "2024-08-12T20:57:09.504458Z",
     "shell.execute_reply": "2024-08-12T20:57:09.502773Z",
     "shell.execute_reply.started": "2024-08-12T20:56:35.948684Z"
    },
    "scrolled": true
   },
   "outputs": [
    {
     "name": "stdout",
     "output_type": "stream",
     "text": [
      "Collecting missingno\n",
      "  Using cached missingno-0.5.2-py3-none-any.whl.metadata (639 bytes)\n",
      "Requirement already satisfied: numpy in /opt/conda/lib/python3.11/site-packages (from missingno) (1.26.4)\n",
      "Requirement already satisfied: matplotlib in /opt/conda/lib/python3.11/site-packages (from missingno) (3.8.4)\n",
      "Requirement already satisfied: scipy in /opt/conda/lib/python3.11/site-packages (from missingno) (1.13.0)\n",
      "Requirement already satisfied: seaborn in /opt/conda/lib/python3.11/site-packages (from missingno) (0.13.2)\n",
      "Requirement already satisfied: contourpy>=1.0.1 in /opt/conda/lib/python3.11/site-packages (from matplotlib->missingno) (1.2.1)\n",
      "Requirement already satisfied: cycler>=0.10 in /opt/conda/lib/python3.11/site-packages (from matplotlib->missingno) (0.12.1)\n",
      "Requirement already satisfied: fonttools>=4.22.0 in /opt/conda/lib/python3.11/site-packages (from matplotlib->missingno) (4.51.0)\n",
      "Requirement already satisfied: kiwisolver>=1.3.1 in /opt/conda/lib/python3.11/site-packages (from matplotlib->missingno) (1.4.5)\n",
      "Requirement already satisfied: packaging>=20.0 in /opt/conda/lib/python3.11/site-packages (from matplotlib->missingno) (24.0)\n",
      "Requirement already satisfied: pillow>=8 in /opt/conda/lib/python3.11/site-packages (from matplotlib->missingno) (10.3.0)\n",
      "Requirement already satisfied: pyparsing>=2.3.1 in /opt/conda/lib/python3.11/site-packages (from matplotlib->missingno) (3.1.2)\n",
      "Requirement already satisfied: python-dateutil>=2.7 in /opt/conda/lib/python3.11/site-packages (from matplotlib->missingno) (2.9.0)\n",
      "Requirement already satisfied: pandas>=1.2 in /opt/conda/lib/python3.11/site-packages (from seaborn->missingno) (2.2.2)\n",
      "Requirement already satisfied: pytz>=2020.1 in /opt/conda/lib/python3.11/site-packages (from pandas>=1.2->seaborn->missingno) (2024.1)\n",
      "Requirement already satisfied: tzdata>=2022.7 in /opt/conda/lib/python3.11/site-packages (from pandas>=1.2->seaborn->missingno) (2024.1)\n",
      "Requirement already satisfied: six>=1.5 in /opt/conda/lib/python3.11/site-packages (from python-dateutil>=2.7->matplotlib->missingno) (1.16.0)\n",
      "Using cached missingno-0.5.2-py3-none-any.whl (8.7 kB)\n",
      "Installing collected packages: missingno\n",
      "Successfully installed missingno-0.5.2\n",
      "\n",
      "\u001b[1m[\u001b[0m\u001b[34;49mnotice\u001b[0m\u001b[1;39;49m]\u001b[0m\u001b[39;49m A new release of pip is available: \u001b[0m\u001b[31;49m24.1.2\u001b[0m\u001b[39;49m -> \u001b[0m\u001b[32;49m24.2\u001b[0m\n",
      "\u001b[1m[\u001b[0m\u001b[34;49mnotice\u001b[0m\u001b[1;39;49m]\u001b[0m\u001b[39;49m To update, run: \u001b[0m\u001b[32;49mpip install --upgrade pip\u001b[0m\n",
      "Collecting pyampute\n",
      "  Using cached pyampute-0.0.3-py3-none-any.whl.metadata (1.3 kB)\n",
      "Requirement already satisfied: pandas in /opt/conda/lib/python3.11/site-packages (from pyampute) (2.2.2)\n",
      "Requirement already satisfied: numpy>=1.19.0 in /opt/conda/lib/python3.11/site-packages (from pyampute) (1.26.4)\n",
      "Requirement already satisfied: scipy in /opt/conda/lib/python3.11/site-packages (from pyampute) (1.13.0)\n",
      "Requirement already satisfied: matplotlib>=3.4.0 in /opt/conda/lib/python3.11/site-packages (from pyampute) (3.8.4)\n",
      "Requirement already satisfied: scikit-learn in /opt/conda/lib/python3.11/site-packages (from pyampute) (1.4.2)\n",
      "Requirement already satisfied: contourpy>=1.0.1 in /opt/conda/lib/python3.11/site-packages (from matplotlib>=3.4.0->pyampute) (1.2.1)\n",
      "Requirement already satisfied: cycler>=0.10 in /opt/conda/lib/python3.11/site-packages (from matplotlib>=3.4.0->pyampute) (0.12.1)\n",
      "Requirement already satisfied: fonttools>=4.22.0 in /opt/conda/lib/python3.11/site-packages (from matplotlib>=3.4.0->pyampute) (4.51.0)\n",
      "Requirement already satisfied: kiwisolver>=1.3.1 in /opt/conda/lib/python3.11/site-packages (from matplotlib>=3.4.0->pyampute) (1.4.5)\n",
      "Requirement already satisfied: packaging>=20.0 in /opt/conda/lib/python3.11/site-packages (from matplotlib>=3.4.0->pyampute) (24.0)\n",
      "Requirement already satisfied: pillow>=8 in /opt/conda/lib/python3.11/site-packages (from matplotlib>=3.4.0->pyampute) (10.3.0)\n",
      "Requirement already satisfied: pyparsing>=2.3.1 in /opt/conda/lib/python3.11/site-packages (from matplotlib>=3.4.0->pyampute) (3.1.2)\n",
      "Requirement already satisfied: python-dateutil>=2.7 in /opt/conda/lib/python3.11/site-packages (from matplotlib>=3.4.0->pyampute) (2.9.0)\n",
      "Requirement already satisfied: pytz>=2020.1 in /opt/conda/lib/python3.11/site-packages (from pandas->pyampute) (2024.1)\n",
      "Requirement already satisfied: tzdata>=2022.7 in /opt/conda/lib/python3.11/site-packages (from pandas->pyampute) (2024.1)\n",
      "Requirement already satisfied: joblib>=1.2.0 in /opt/conda/lib/python3.11/site-packages (from scikit-learn->pyampute) (1.4.2)\n",
      "Requirement already satisfied: threadpoolctl>=2.0.0 in /opt/conda/lib/python3.11/site-packages (from scikit-learn->pyampute) (3.5.0)\n",
      "Requirement already satisfied: six>=1.5 in /opt/conda/lib/python3.11/site-packages (from python-dateutil>=2.7->matplotlib>=3.4.0->pyampute) (1.16.0)\n",
      "Using cached pyampute-0.0.3-py3-none-any.whl (20 kB)\n",
      "Installing collected packages: pyampute\n",
      "Successfully installed pyampute-0.0.3\n",
      "\n",
      "\u001b[1m[\u001b[0m\u001b[34;49mnotice\u001b[0m\u001b[1;39;49m]\u001b[0m\u001b[39;49m A new release of pip is available: \u001b[0m\u001b[31;49m24.1.2\u001b[0m\u001b[39;49m -> \u001b[0m\u001b[32;49m24.2\u001b[0m\n",
      "\u001b[1m[\u001b[0m\u001b[34;49mnotice\u001b[0m\u001b[1;39;49m]\u001b[0m\u001b[39;49m To update, run: \u001b[0m\u001b[32;49mpip install --upgrade pip\u001b[0m\n",
      "Collecting hiclass[xai]\n",
      "  Using cached hiclass-4.11.0-py3-none-any.whl.metadata (17 kB)\n",
      "Requirement already satisfied: networkx in /opt/conda/lib/python3.11/site-packages (from hiclass[xai]) (3.3)\n",
      "Requirement already satisfied: numpy in /opt/conda/lib/python3.11/site-packages (from hiclass[xai]) (1.26.4)\n",
      "Requirement already satisfied: scikit-learn<1.5 in /opt/conda/lib/python3.11/site-packages (from hiclass[xai]) (1.4.2)\n",
      "Collecting scipy<1.13 (from hiclass[xai])\n",
      "  Using cached scipy-1.12.0-cp311-cp311-manylinux_2_17_x86_64.manylinux2014_x86_64.whl.metadata (60 kB)\n",
      "Collecting shap==0.44.1 (from hiclass[xai])\n",
      "  Using cached shap-0.44.1-cp311-cp311-manylinux_2_12_x86_64.manylinux2010_x86_64.manylinux_2_17_x86_64.manylinux2014_x86_64.whl.metadata (24 kB)\n",
      "Collecting xarray==2023.1.0 (from hiclass[xai])\n",
      "  Using cached xarray-2023.1.0-py3-none-any.whl.metadata (6.2 kB)\n",
      "Requirement already satisfied: pandas in /opt/conda/lib/python3.11/site-packages (from shap==0.44.1->hiclass[xai]) (2.2.2)\n",
      "Requirement already satisfied: tqdm>=4.27.0 in /opt/conda/lib/python3.11/site-packages (from shap==0.44.1->hiclass[xai]) (4.66.4)\n",
      "Requirement already satisfied: packaging>20.9 in /opt/conda/lib/python3.11/site-packages (from shap==0.44.1->hiclass[xai]) (24.0)\n",
      "Collecting slicer==0.0.7 (from shap==0.44.1->hiclass[xai])\n",
      "  Using cached slicer-0.0.7-py3-none-any.whl.metadata (3.7 kB)\n",
      "Requirement already satisfied: numba in /opt/conda/lib/python3.11/site-packages (from shap==0.44.1->hiclass[xai]) (0.59.1)\n",
      "Requirement already satisfied: cloudpickle in /opt/conda/lib/python3.11/site-packages (from shap==0.44.1->hiclass[xai]) (3.0.0)\n",
      "Requirement already satisfied: joblib>=1.2.0 in /opt/conda/lib/python3.11/site-packages (from scikit-learn<1.5->hiclass[xai]) (1.4.2)\n",
      "Requirement already satisfied: threadpoolctl>=2.0.0 in /opt/conda/lib/python3.11/site-packages (from scikit-learn<1.5->hiclass[xai]) (3.5.0)\n",
      "Requirement already satisfied: python-dateutil>=2.8.2 in /opt/conda/lib/python3.11/site-packages (from pandas->shap==0.44.1->hiclass[xai]) (2.9.0)\n",
      "Requirement already satisfied: pytz>=2020.1 in /opt/conda/lib/python3.11/site-packages (from pandas->shap==0.44.1->hiclass[xai]) (2024.1)\n",
      "Requirement already satisfied: tzdata>=2022.7 in /opt/conda/lib/python3.11/site-packages (from pandas->shap==0.44.1->hiclass[xai]) (2024.1)\n",
      "Requirement already satisfied: llvmlite<0.43,>=0.42.0dev0 in /opt/conda/lib/python3.11/site-packages (from numba->shap==0.44.1->hiclass[xai]) (0.42.0)\n",
      "Requirement already satisfied: six>=1.5 in /opt/conda/lib/python3.11/site-packages (from python-dateutil>=2.8.2->pandas->shap==0.44.1->hiclass[xai]) (1.16.0)\n",
      "Using cached shap-0.44.1-cp311-cp311-manylinux_2_12_x86_64.manylinux2010_x86_64.manylinux_2_17_x86_64.manylinux2014_x86_64.whl (535 kB)\n",
      "Using cached xarray-2023.1.0-py3-none-any.whl (973 kB)\n",
      "Using cached slicer-0.0.7-py3-none-any.whl (14 kB)\n",
      "Using cached scipy-1.12.0-cp311-cp311-manylinux_2_17_x86_64.manylinux2014_x86_64.whl (38.4 MB)\n",
      "Using cached hiclass-4.11.0-py3-none-any.whl (46 kB)\n",
      "Installing collected packages: slicer, scipy, xarray, shap, hiclass\n",
      "  Attempting uninstall: scipy\n",
      "    Found existing installation: scipy 1.13.0\n",
      "    Uninstalling scipy-1.13.0:\n",
      "      Successfully uninstalled scipy-1.13.0\n",
      "Successfully installed hiclass-4.11.0 scipy-1.12.0 shap-0.44.1 slicer-0.0.7 xarray-2023.1.0\n",
      "\n",
      "\u001b[1m[\u001b[0m\u001b[34;49mnotice\u001b[0m\u001b[1;39;49m]\u001b[0m\u001b[39;49m A new release of pip is available: \u001b[0m\u001b[31;49m24.1.2\u001b[0m\u001b[39;49m -> \u001b[0m\u001b[32;49m24.2\u001b[0m\n",
      "\u001b[1m[\u001b[0m\u001b[34;49mnotice\u001b[0m\u001b[1;39;49m]\u001b[0m\u001b[39;49m To update, run: \u001b[0m\u001b[32;49mpip install --upgrade pip\u001b[0m\n",
      "Collecting optuna\n",
      "  Using cached optuna-3.6.1-py3-none-any.whl.metadata (17 kB)\n",
      "Requirement already satisfied: alembic>=1.5.0 in /opt/conda/lib/python3.11/site-packages (from optuna) (1.13.1)\n",
      "Collecting colorlog (from optuna)\n",
      "  Using cached colorlog-6.8.2-py3-none-any.whl.metadata (10 kB)\n",
      "Requirement already satisfied: numpy in /opt/conda/lib/python3.11/site-packages (from optuna) (1.26.4)\n",
      "Requirement already satisfied: packaging>=20.0 in /opt/conda/lib/python3.11/site-packages (from optuna) (24.0)\n",
      "Requirement already satisfied: sqlalchemy>=1.3.0 in /opt/conda/lib/python3.11/site-packages (from optuna) (2.0.30)\n",
      "Requirement already satisfied: tqdm in /opt/conda/lib/python3.11/site-packages (from optuna) (4.66.4)\n",
      "Requirement already satisfied: PyYAML in /opt/conda/lib/python3.11/site-packages (from optuna) (6.0.1)\n",
      "Requirement already satisfied: Mako in /opt/conda/lib/python3.11/site-packages (from alembic>=1.5.0->optuna) (1.3.5)\n",
      "Requirement already satisfied: typing-extensions>=4 in /opt/conda/lib/python3.11/site-packages (from alembic>=1.5.0->optuna) (4.11.0)\n",
      "Requirement already satisfied: greenlet!=0.4.17 in /opt/conda/lib/python3.11/site-packages (from sqlalchemy>=1.3.0->optuna) (3.0.3)\n",
      "Requirement already satisfied: MarkupSafe>=0.9.2 in /opt/conda/lib/python3.11/site-packages (from Mako->alembic>=1.5.0->optuna) (2.1.5)\n",
      "Using cached optuna-3.6.1-py3-none-any.whl (380 kB)\n",
      "Using cached colorlog-6.8.2-py3-none-any.whl (11 kB)\n",
      "Installing collected packages: colorlog, optuna\n",
      "Successfully installed colorlog-6.8.2 optuna-3.6.1\n",
      "\n",
      "\u001b[1m[\u001b[0m\u001b[34;49mnotice\u001b[0m\u001b[1;39;49m]\u001b[0m\u001b[39;49m A new release of pip is available: \u001b[0m\u001b[31;49m24.1.2\u001b[0m\u001b[39;49m -> \u001b[0m\u001b[32;49m24.2\u001b[0m\n",
      "\u001b[1m[\u001b[0m\u001b[34;49mnotice\u001b[0m\u001b[1;39;49m]\u001b[0m\u001b[39;49m To update, run: \u001b[0m\u001b[32;49mpip install --upgrade pip\u001b[0m\n",
      "Collecting plotly\n",
      "  Using cached plotly-5.23.0-py3-none-any.whl.metadata (7.3 kB)\n",
      "Collecting tenacity>=6.2.0 (from plotly)\n",
      "  Using cached tenacity-9.0.0-py3-none-any.whl.metadata (1.2 kB)\n",
      "Requirement already satisfied: packaging in /opt/conda/lib/python3.11/site-packages (from plotly) (24.0)\n",
      "Using cached plotly-5.23.0-py3-none-any.whl (17.3 MB)\n",
      "Using cached tenacity-9.0.0-py3-none-any.whl (28 kB)\n",
      "Installing collected packages: tenacity, plotly\n",
      "Successfully installed plotly-5.23.0 tenacity-9.0.0\n",
      "\n",
      "\u001b[1m[\u001b[0m\u001b[34;49mnotice\u001b[0m\u001b[1;39;49m]\u001b[0m\u001b[39;49m A new release of pip is available: \u001b[0m\u001b[31;49m24.1.2\u001b[0m\u001b[39;49m -> \u001b[0m\u001b[32;49m24.2\u001b[0m\n",
      "\u001b[1m[\u001b[0m\u001b[34;49mnotice\u001b[0m\u001b[1;39;49m]\u001b[0m\u001b[39;49m To update, run: \u001b[0m\u001b[32;49mpip install --upgrade pip\u001b[0m\n",
      "Collecting lightgbm\n",
      "  Using cached lightgbm-4.5.0-py3-none-manylinux_2_28_x86_64.whl.metadata (17 kB)\n",
      "Requirement already satisfied: numpy>=1.17.0 in /opt/conda/lib/python3.11/site-packages (from lightgbm) (1.26.4)\n",
      "Requirement already satisfied: scipy in /opt/conda/lib/python3.11/site-packages (from lightgbm) (1.12.0)\n",
      "Using cached lightgbm-4.5.0-py3-none-manylinux_2_28_x86_64.whl (3.6 MB)\n",
      "Installing collected packages: lightgbm\n",
      "Successfully installed lightgbm-4.5.0\n",
      "\n",
      "\u001b[1m[\u001b[0m\u001b[34;49mnotice\u001b[0m\u001b[1;39;49m]\u001b[0m\u001b[39;49m A new release of pip is available: \u001b[0m\u001b[31;49m24.1.2\u001b[0m\u001b[39;49m -> \u001b[0m\u001b[32;49m24.2\u001b[0m\n",
      "\u001b[1m[\u001b[0m\u001b[34;49mnotice\u001b[0m\u001b[1;39;49m]\u001b[0m\u001b[39;49m To update, run: \u001b[0m\u001b[32;49mpip install --upgrade pip\u001b[0m\n",
      "Collecting hierarchical_confusion_matrix\n",
      "  Using cached hierarchical_confusion_matrix-1.0.3-py3-none-any.whl.metadata (980 bytes)\n",
      "Using cached hierarchical_confusion_matrix-1.0.3-py3-none-any.whl (4.6 kB)\n",
      "Installing collected packages: hierarchical_confusion_matrix\n",
      "Successfully installed hierarchical_confusion_matrix-1.0.3\n",
      "\n",
      "\u001b[1m[\u001b[0m\u001b[34;49mnotice\u001b[0m\u001b[1;39;49m]\u001b[0m\u001b[39;49m A new release of pip is available: \u001b[0m\u001b[31;49m24.1.2\u001b[0m\u001b[39;49m -> \u001b[0m\u001b[32;49m24.2\u001b[0m\n",
      "\u001b[1m[\u001b[0m\u001b[34;49mnotice\u001b[0m\u001b[1;39;49m]\u001b[0m\u001b[39;49m To update, run: \u001b[0m\u001b[32;49mpip install --upgrade pip\u001b[0m\n"
     ]
    }
   ],
   "source": [
    "# Necessary outsource packages for this jupyter notebook\n",
    "\n",
    "!pip install missingno\n",
    "!pip install pyampute\n",
    "!pip install hiclass\"[xai]\"\n",
    "!pip install optuna\n",
    "!pip install plotly\n",
    "!pip install lightgbm\n",
    "!pip install hierarchical_confusion_matrix"
   ]
  },
  {
   "cell_type": "code",
   "execution_count": 2,
   "id": "aad1f7b4-97c0-46e7-9b0b-fb5b9998ff6e",
   "metadata": {
    "execution": {
     "iopub.execute_input": "2024-08-12T20:57:09.507273Z",
     "iopub.status.busy": "2024-08-12T20:57:09.506744Z",
     "iopub.status.idle": "2024-08-12T20:57:12.870426Z",
     "shell.execute_reply": "2024-08-12T20:57:12.869702Z",
     "shell.execute_reply.started": "2024-08-12T20:57:09.507217Z"
    }
   },
   "outputs": [],
   "source": [
    "# Import necessary packages\n",
    "import matplotlib.pyplot as plt\n",
    "import missingno as msno\n",
    "import seaborn as sns\n",
    "import pandas as pd\n",
    "import numpy as np\n",
    "import random\n",
    "import optuna\n",
    "import time\n",
    "import networkx as nx\n",
    "\n",
    "from pyampute.exploration.mcar_statistical_tests import MCARTest\n",
    "from sklearn.model_selection import train_test_split, KFold\n",
    "from sklearn.ensemble import RandomForestClassifier\n",
    "from sklearn.tree import DecisionTreeClassifier\n",
    "\n",
    "from sklearn.preprocessing import RobustScaler\n",
    "from sklearn.impute import SimpleImputer\n",
    "from sklearn.metrics import accuracy_score, precision_score, recall_score, f1_score\n",
    "from hiclass import LocalClassifierPerNode, FlatClassifier\n",
    "from hiclass.metrics import f1\n",
    "from lightgbm import LGBMClassifier\n",
    "from lightgbm import early_stopping\n",
    "from hierarchical_confusion_matrix import determineHierarchicalConfusionMatrix, printHierarchicalConfusionMatrix"
   ]
  },
  {
   "cell_type": "markdown",
   "id": "78f1d058-44c0-4a37-a27c-d8c6b7603bc9",
   "metadata": {},
   "source": [
    "# 1 Get the data"
   ]
  },
  {
   "cell_type": "code",
   "execution_count": 3,
   "id": "81ee4892-a770-43b6-b71a-8352c74aef2a",
   "metadata": {
    "execution": {
     "iopub.execute_input": "2024-08-12T20:57:12.871649Z",
     "iopub.status.busy": "2024-08-12T20:57:12.871409Z",
     "iopub.status.idle": "2024-08-12T20:57:35.021007Z",
     "shell.execute_reply": "2024-08-12T20:57:35.019913Z",
     "shell.execute_reply.started": "2024-08-12T20:57:12.871625Z"
    },
    "scrolled": true
   },
   "outputs": [
    {
     "name": "stdout",
     "output_type": "stream",
     "text": [
      "The size of raw_data is (128646, 23).\n",
      "<class 'pandas.core.frame.DataFrame'>\n",
      "RangeIndex: 128646 entries, 0 to 128645\n",
      "Data columns (total 23 columns):\n",
      " #   Column   Non-Null Count   Dtype  \n",
      "---  ------   --------------   -----  \n",
      " 0   tic      128593 non-null  object \n",
      " 1   gsubind  94459 non-null   float64\n",
      " 2   fyear    128417 non-null  float64\n",
      " 3   at       93228 non-null   float64\n",
      " 4   che      82427 non-null   float64\n",
      " 5   rect     81414 non-null   float64\n",
      " 6   invt     84616 non-null   float64\n",
      " 7   act      69234 non-null   float64\n",
      " 8   ppent    90570 non-null   float64\n",
      " 9   ivaeq    88123 non-null   float64\n",
      " 10  intan    92048 non-null   float64\n",
      " 11  ap       86374 non-null   float64\n",
      " 12  dlc      92560 non-null   float64\n",
      " 13  ui       3590 non-null    float64\n",
      " 14  lct      69337 non-null   float64\n",
      " 15  dltt     92990 non-null   float64\n",
      " 16  lt       93119 non-null   float64\n",
      " 17  pstk     92883 non-null   float64\n",
      " 18  ceq      93011 non-null   float64\n",
      " 19  sale     82060 non-null   float64\n",
      " 20  cogs     82059 non-null   float64\n",
      " 21  xrd      38151 non-null   float64\n",
      " 22  ib       92837 non-null   float64\n",
      "dtypes: float64(22), object(1)\n",
      "memory usage: 22.6+ MB\n"
     ]
    }
   ],
   "source": [
    "# Read in data\n",
    "raw_data = pd.read_csv(\"ALL.csv\", low_memory=False)\n",
    "\n",
    "# Keep useful cols\n",
    "columns_keep = [\"tic\",     # ticker\n",
    "                \"gsubind\", # GICS code\n",
    "                \"fyear\",   # fiscal year\n",
    "                \"at\",      # total assets\n",
    "                \"che\",     # cash and short-term investments\n",
    "                \"rect\",    # receivables\n",
    "                \"invt\",    # inventory\n",
    "                \"act\",     # current assets\n",
    "                \"ppent\",   # property, plant and equipment (net)\n",
    "                \"ivaeq\",   # investment and advances\n",
    "                \"intan\",   # intangible assets\n",
    "                \"ap\",      # accounts payable\n",
    "                \"dlc\",     # debt in current laibilities\n",
    "                \"ui\",      # unearned income\n",
    "                \"lct\",     # current liabilities\n",
    "                \"dltt\",    # long-term debt\n",
    "                \"lt\",      # total liabilities\n",
    "                \"pstk\",    # preferred stock\n",
    "                \"ceq\",     # common equity\n",
    "                \"sale\",    # sales/turnover\n",
    "                \"cogs\",    # cost of goods sold\n",
    "                \"xrd\",     # research and development expense\n",
    "                \"ib\"]      # income before extraordinary items\n",
    "\n",
    "raw_data = raw_data[columns_keep]\n",
    "\n",
    "# Check the size and type of data\n",
    "raw_shape1 = raw_data.shape\n",
    "print(f\"The size of raw_data is {raw_shape1}.\")\n",
    "\n",
    "raw_data.info()"
   ]
  },
  {
   "cell_type": "code",
   "execution_count": 4,
   "id": "633f115b-9e8c-442f-8bee-cdeebe128360",
   "metadata": {
    "execution": {
     "iopub.execute_input": "2024-08-12T20:57:35.022370Z",
     "iopub.status.busy": "2024-08-12T20:57:35.022133Z",
     "iopub.status.idle": "2024-08-12T20:57:35.067716Z",
     "shell.execute_reply": "2024-08-12T20:57:35.066814Z",
     "shell.execute_reply.started": "2024-08-12T20:57:35.022347Z"
    }
   },
   "outputs": [
    {
     "data": {
      "text/plain": [
       "array([2013., 2014., 2015., 2016., 2017., 2018., 2019., 2020., 2021.,\n",
       "       2022., 2023.,   nan])"
      ]
     },
     "execution_count": 4,
     "metadata": {},
     "output_type": "execute_result"
    }
   ],
   "source": [
    "# Check fiscal year\n",
    "raw_data[\"fyear\"].unique()"
   ]
  },
  {
   "cell_type": "markdown",
   "id": "e99ff074-aad1-4383-87a2-18ce3471f0ac",
   "metadata": {},
   "source": [
    "### Preprocessing"
   ]
  },
  {
   "cell_type": "code",
   "execution_count": 5,
   "id": "74180b41-99d8-4908-8587-803c1c1b55a2",
   "metadata": {
    "execution": {
     "iopub.execute_input": "2024-08-12T20:57:35.068878Z",
     "iopub.status.busy": "2024-08-12T20:57:35.068674Z",
     "iopub.status.idle": "2024-08-12T20:57:35.103127Z",
     "shell.execute_reply": "2024-08-12T20:57:35.102316Z",
     "shell.execute_reply.started": "2024-08-12T20:57:35.068858Z"
    },
    "jupyter": {
     "source_hidden": true
    }
   },
   "outputs": [
    {
     "data": {
      "text/plain": [
       "163"
      ]
     },
     "execution_count": 5,
     "metadata": {},
     "output_type": "execute_result"
    }
   ],
   "source": [
    "gics_codes = [\n",
    "    \"10101010\", \"10101020\", \n",
    "    \"10102010\", \"10102020\", \"10102030\", \"10102040\", \"10102050\",\n",
    "    \"15101010\", \"15101020\", \"15101030\", \"15101040\", \"15101050\", \n",
    "    \"15102010\", \n",
    "    \"15103010\", \"15103020\",\n",
    "    \"15104010\", \"15104020\", \"15104025\", \"15104030\", \"15104040\", \"15104045\", \"15104050\", \n",
    "    \"15105010\", \"15105020\", \n",
    "    \"20101010\", \n",
    "    \"20102010\", \"20103010\", \n",
    "    \"20104010\", \"20104020\", \n",
    "    \"20105010\", \n",
    "    \"20106010\", \"20106015\", \"20106020\", \n",
    "    \"20107010\", \n",
    "    \"20201010\", \"20201050\",\"20201060\", \"20201070\", \"20201080\", \n",
    "    \"20202010\", \"20202020\", \"20202030\", \n",
    "    \"20301010\", \n",
    "    \"20302010\",\n",
    "    \"20303010\", \n",
    "    \"20304010\", \"20304030\", \"20304040\",\n",
    "    \"20305010\", \"20305020\", \"20305030\",\n",
    "    \"25101010\", \"25102010\", \n",
    "    \"25102020\", \"25102020\",\n",
    "    \"25201010\", \"25201020\", \"25201030\", \"25201040\", \"25201050\",\n",
    "    \"25202010\", \n",
    "    \"25203010\", \"25203020\", \"25203030\", \n",
    "    \"25301010\", \"25301020\", \"25301030\", \"25301040\",\n",
    "    \"25302010\", \"25302020\", \n",
    "    \"25501010\",\n",
    "    \"25503030\",\n",
    "    \"25504010\", \"25504020\", \"25504030\", \"25504040\", \"25504050\", \"25504060\",\n",
    "    \"30101010\", \"30101020\", \"30101030\", \"30101040\", \n",
    "    \"30201010\", \"30201020\", \"30201030\", \n",
    "    \"30202010\", \"30202030\", \n",
    "    \"30203010\",\n",
    "    \"30301010\", \n",
    "    \"30302010\", \n",
    "    \"35101010\", \"35101020\", \n",
    "    \"35102010\", \"35102015\", \"35102020\", \"35102030\", \n",
    "    \"35103010\", \n",
    "    \"35201010\", \n",
    "    \"35202010\", \n",
    "    \"35203010\",\n",
    "    \"40101010\", \"40101015\", \n",
    "    \"40201020\", \"40201030\", \n",
    "    \"40201040\", \"40201050\", \"40201060\", \n",
    "    \"40202010\",\n",
    "    \"40203010\", \"40203020\", \"40203030\", \"40203040\",\n",
    "    \"40204010\", \n",
    "    \"40301010\", \"40301020\", \"40301030\", \"40301040\", \"40301050\",\n",
    "    \"45102010\", \"45102030\",\n",
    "    \"45103010\", \"45103020\", \n",
    "    \"45201020\", \n",
    "    \"45202030\", \n",
    "    \"45203010\", \"45203015\", \"45203020\", \"45203030\",\n",
    "    \"45301010\", \"45301020\", \n",
    "    \"50101010\", \"50101020\", \n",
    "    \"50102010\",\n",
    "    \"50201010\", \"50201020\", \"50201030\", \"50201040\", \n",
    "    \"50202010\", \"50202020\", \n",
    "    \"50203010\",\n",
    "    \"55101010\", \n",
    "    \"55102010\", \n",
    "    \"55103010\", \n",
    "    \"55104010\", \n",
    "    \"55105010\", \"55105020\", \n",
    "    \"60101010\", \n",
    "    \"60102510\", \n",
    "    \"60103010\", \n",
    "    \"60104010\",\n",
    "    \"60105010\", \n",
    "    \"60106010\", \"60106020\", \n",
    "    \"60107010\",\n",
    "    \"60108010\", \"60108020\", \"60108030\", \"60108040\", \"60108050\", \n",
    "    \"60201010\", \"60201020\", \"60201030\", \"60201040\"\n",
    "]\n",
    "len(gics_codes)"
   ]
  },
  {
   "cell_type": "code",
   "execution_count": 6,
   "id": "400ecde7-e8e9-4077-bd2a-8e4b117eda26",
   "metadata": {
    "execution": {
     "iopub.execute_input": "2024-08-12T20:57:35.105861Z",
     "iopub.status.busy": "2024-08-12T20:57:35.105619Z",
     "iopub.status.idle": "2024-08-12T20:57:35.215262Z",
     "shell.execute_reply": "2024-08-12T20:57:35.214254Z",
     "shell.execute_reply.started": "2024-08-12T20:57:35.105839Z"
    }
   },
   "outputs": [
    {
     "name": "stdout",
     "output_type": "stream",
     "text": [
      "36261 rows are dropped because of no labels.\n",
      "The size of raw_data is (92385, 23).\n"
     ]
    }
   ],
   "source": [
    "# Preprocess the target attributes\n",
    "def process_labels(dataset):\n",
    "    dataset = dataset.dropna(subset=[\"gsubind\"])                # drop rows without GICS codes\n",
    "    dataset = dataset.reset_index(drop=True)                    # reset index\n",
    "\n",
    "    dataset[\"GICS\"] = dataset[\"gsubind\"].apply(int).apply(str)  # convert data type into strings and assign new colname\n",
    "    dataset.drop(columns=[\"gsubind\"], inplace=True)             # drop original target attribute      \n",
    "    dataset.reset_index(drop=True, inplace=True)                # reset index\n",
    "\n",
    "    dataset = dataset[dataset[\"GICS\"].isin(gics_codes)]         # delete obs. whose GICS not in \"gics_code\"\n",
    "\n",
    "    return dataset\n",
    "\n",
    "# Run function\n",
    "raw_data_clean_label = process_labels(raw_data)\n",
    "\n",
    "# Check data shape\n",
    "raw_shape2 = raw_data_clean_label.shape\n",
    "print(f\"{raw_shape1[0] - raw_shape2[0]} rows are dropped because of no labels.\")\n",
    "print(f\"The size of raw_data is {raw_shape2}.\")"
   ]
  },
  {
   "cell_type": "code",
   "execution_count": 7,
   "id": "085e7b68-3a38-4692-80e8-6544f7a857ce",
   "metadata": {
    "execution": {
     "iopub.execute_input": "2024-08-12T20:57:35.216404Z",
     "iopub.status.busy": "2024-08-12T20:57:35.216177Z",
     "iopub.status.idle": "2024-08-12T20:57:40.283546Z",
     "shell.execute_reply": "2024-08-12T20:57:40.282411Z",
     "shell.execute_reply.started": "2024-08-12T20:57:35.216382Z"
    },
    "scrolled": true
   },
   "outputs": [
    {
     "name": "stderr",
     "output_type": "stream",
     "text": [
      "DataFrameGroupBy.apply operated on the grouping columns. This behavior is deprecated, and in a future version of pandas the grouping columns will be excluded from the operation. Either pass `include_groups=False` to exclude the groupings or explicitly select the grouping columns after groupby to silence this warning.\n",
      "DataFrameGroupBy.apply operated on the grouping columns. This behavior is deprecated, and in a future version of pandas the grouping columns will be excluded from the operation. Either pass `include_groups=False` to exclude the groupings or explicitly select the grouping columns after groupby to silence this warning.\n",
      "DataFrameGroupBy.apply operated on the grouping columns. This behavior is deprecated, and in a future version of pandas the grouping columns will be excluded from the operation. Either pass `include_groups=False` to exclude the groupings or explicitly select the grouping columns after groupby to silence this warning.\n",
      "DataFrameGroupBy.apply operated on the grouping columns. This behavior is deprecated, and in a future version of pandas the grouping columns will be excluded from the operation. Either pass `include_groups=False` to exclude the groupings or explicitly select the grouping columns after groupby to silence this warning.\n",
      "DataFrameGroupBy.apply operated on the grouping columns. This behavior is deprecated, and in a future version of pandas the grouping columns will be excluded from the operation. Either pass `include_groups=False` to exclude the groupings or explicitly select the grouping columns after groupby to silence this warning.\n",
      "DataFrameGroupBy.apply operated on the grouping columns. This behavior is deprecated, and in a future version of pandas the grouping columns will be excluded from the operation. Either pass `include_groups=False` to exclude the groupings or explicitly select the grouping columns after groupby to silence this warning.\n",
      "DataFrameGroupBy.apply operated on the grouping columns. This behavior is deprecated, and in a future version of pandas the grouping columns will be excluded from the operation. Either pass `include_groups=False` to exclude the groupings or explicitly select the grouping columns after groupby to silence this warning.\n",
      "DataFrameGroupBy.apply operated on the grouping columns. This behavior is deprecated, and in a future version of pandas the grouping columns will be excluded from the operation. Either pass `include_groups=False` to exclude the groupings or explicitly select the grouping columns after groupby to silence this warning.\n",
      "DataFrameGroupBy.apply operated on the grouping columns. This behavior is deprecated, and in a future version of pandas the grouping columns will be excluded from the operation. Either pass `include_groups=False` to exclude the groupings or explicitly select the grouping columns after groupby to silence this warning.\n",
      "DataFrameGroupBy.apply operated on the grouping columns. This behavior is deprecated, and in a future version of pandas the grouping columns will be excluded from the operation. Either pass `include_groups=False` to exclude the groupings or explicitly select the grouping columns after groupby to silence this warning.\n",
      "DataFrameGroupBy.apply operated on the grouping columns. This behavior is deprecated, and in a future version of pandas the grouping columns will be excluded from the operation. Either pass `include_groups=False` to exclude the groupings or explicitly select the grouping columns after groupby to silence this warning.\n",
      "DataFrameGroupBy.apply operated on the grouping columns. This behavior is deprecated, and in a future version of pandas the grouping columns will be excluded from the operation. Either pass `include_groups=False` to exclude the groupings or explicitly select the grouping columns after groupby to silence this warning.\n"
     ]
    }
   ],
   "source": [
    "# Drop duplicated observations\n",
    "def drop_duplicates(dataset):\n",
    "    # Create an empty list to store result\n",
    "    cleaned_dataframes = [] \n",
    "\n",
    "    # For loop to clean duplicated obs. by year\n",
    "    for year in dataset[\"fyear\"].unique():\n",
    "\n",
    "        data = dataset[dataset[\"fyear\"] == year]                                         # filter data for the current year\n",
    "        duplicates = data[data.duplicated(\"tic\", keep=False)].sort_values(\"tic\")         # find duplicates based on the 'tic' column\n",
    "\n",
    "        def which_to_drop(company):\n",
    "            return company.isnull().sum(axis=1).idxmax()                                 # find the index of the row with the fewest missing values\n",
    "        indices_to_drop = duplicates.groupby(\"tic\").apply(which_to_drop).values.tolist() # apply the which_to_keep function to each group of duplicates\n",
    "        data_cleaned = data.drop(index=indices_to_drop)                                  # drop the duplicates, keeping only the selected indices\n",
    "        cleaned_dataframes.append(data_cleaned)                                          # append the cleaned data to the list\n",
    "    # For loop ends\n",
    "\n",
    "    # Concatenate all cleaned dataframes into a single dataframe\n",
    "    cleaned_dataset = pd.concat(cleaned_dataframes)\n",
    "\n",
    "    return cleaned_dataset\n",
    "\n",
    "# Run function\n",
    "raw_data_drop_dup1 = drop_duplicates(raw_data_clean_label)"
   ]
  },
  {
   "cell_type": "markdown",
   "id": "e7f9b157-09ae-4dea-8072-7c6e4e9535f3",
   "metadata": {},
   "source": [
    "##### Missing \"tic\""
   ]
  },
  {
   "cell_type": "code",
   "execution_count": 8,
   "id": "e4bd409f-7f51-4f41-9b2b-7b94272efcb7",
   "metadata": {
    "execution": {
     "iopub.execute_input": "2024-08-12T20:57:40.285161Z",
     "iopub.status.busy": "2024-08-12T20:57:40.284901Z",
     "iopub.status.idle": "2024-08-12T20:57:40.374596Z",
     "shell.execute_reply": "2024-08-12T20:57:40.373684Z",
     "shell.execute_reply.started": "2024-08-12T20:57:40.285133Z"
    },
    "scrolled": true
   },
   "outputs": [
    {
     "data": {
      "text/html": [
       "<div>\n",
       "<style scoped>\n",
       "    .dataframe tbody tr th:only-of-type {\n",
       "        vertical-align: middle;\n",
       "    }\n",
       "\n",
       "    .dataframe tbody tr th {\n",
       "        vertical-align: top;\n",
       "    }\n",
       "\n",
       "    .dataframe thead th {\n",
       "        text-align: right;\n",
       "    }\n",
       "</style>\n",
       "<table border=\"1\" class=\"dataframe\">\n",
       "  <thead>\n",
       "    <tr style=\"text-align: right;\">\n",
       "      <th></th>\n",
       "      <th>tic</th>\n",
       "      <th>fyear</th>\n",
       "      <th>at</th>\n",
       "      <th>che</th>\n",
       "      <th>rect</th>\n",
       "      <th>invt</th>\n",
       "      <th>act</th>\n",
       "      <th>ppent</th>\n",
       "      <th>ivaeq</th>\n",
       "      <th>intan</th>\n",
       "      <th>...</th>\n",
       "      <th>lct</th>\n",
       "      <th>dltt</th>\n",
       "      <th>lt</th>\n",
       "      <th>pstk</th>\n",
       "      <th>ceq</th>\n",
       "      <th>sale</th>\n",
       "      <th>cogs</th>\n",
       "      <th>xrd</th>\n",
       "      <th>ib</th>\n",
       "      <th>GICS</th>\n",
       "    </tr>\n",
       "  </thead>\n",
       "  <tbody>\n",
       "    <tr>\n",
       "      <th>13795</th>\n",
       "      <td>NaN</td>\n",
       "      <td>2014.0</td>\n",
       "      <td>31.713</td>\n",
       "      <td>2.174</td>\n",
       "      <td>NaN</td>\n",
       "      <td>0.000</td>\n",
       "      <td>3.345</td>\n",
       "      <td>9.046</td>\n",
       "      <td>18.422</td>\n",
       "      <td>0.000</td>\n",
       "      <td>...</td>\n",
       "      <td>5.582</td>\n",
       "      <td>0.000</td>\n",
       "      <td>6.425</td>\n",
       "      <td>0.0</td>\n",
       "      <td>23.693</td>\n",
       "      <td>3.919</td>\n",
       "      <td>8.130</td>\n",
       "      <td>NaN</td>\n",
       "      <td>-5.541</td>\n",
       "      <td>40203010</td>\n",
       "    </tr>\n",
       "    <tr>\n",
       "      <th>67372</th>\n",
       "      <td>NaN</td>\n",
       "      <td>2014.0</td>\n",
       "      <td>88204.000</td>\n",
       "      <td>8127.000</td>\n",
       "      <td>41219.000</td>\n",
       "      <td>0.000</td>\n",
       "      <td>NaN</td>\n",
       "      <td>124.000</td>\n",
       "      <td>93.000</td>\n",
       "      <td>62.000</td>\n",
       "      <td>...</td>\n",
       "      <td>NaN</td>\n",
       "      <td>239.000</td>\n",
       "      <td>83204.000</td>\n",
       "      <td>350.0</td>\n",
       "      <td>4450.000</td>\n",
       "      <td>2795.000</td>\n",
       "      <td>781.000</td>\n",
       "      <td>NaN</td>\n",
       "      <td>639.000</td>\n",
       "      <td>40101010</td>\n",
       "    </tr>\n",
       "    <tr>\n",
       "      <th>67373</th>\n",
       "      <td>NaN</td>\n",
       "      <td>2014.0</td>\n",
       "      <td>88204.000</td>\n",
       "      <td>NaN</td>\n",
       "      <td>NaN</td>\n",
       "      <td>NaN</td>\n",
       "      <td>NaN</td>\n",
       "      <td>124.000</td>\n",
       "      <td>93.000</td>\n",
       "      <td>62.000</td>\n",
       "      <td>...</td>\n",
       "      <td>NaN</td>\n",
       "      <td>239.000</td>\n",
       "      <td>83204.000</td>\n",
       "      <td>350.0</td>\n",
       "      <td>4450.000</td>\n",
       "      <td>NaN</td>\n",
       "      <td>NaN</td>\n",
       "      <td>NaN</td>\n",
       "      <td>639.000</td>\n",
       "      <td>40101010</td>\n",
       "    </tr>\n",
       "    <tr>\n",
       "      <th>13796</th>\n",
       "      <td>NaN</td>\n",
       "      <td>2015.0</td>\n",
       "      <td>31.103</td>\n",
       "      <td>3.993</td>\n",
       "      <td>NaN</td>\n",
       "      <td>0.000</td>\n",
       "      <td>5.050</td>\n",
       "      <td>5.752</td>\n",
       "      <td>19.679</td>\n",
       "      <td>0.000</td>\n",
       "      <td>...</td>\n",
       "      <td>5.211</td>\n",
       "      <td>0.000</td>\n",
       "      <td>6.285</td>\n",
       "      <td>0.0</td>\n",
       "      <td>24.467</td>\n",
       "      <td>2.610</td>\n",
       "      <td>4.200</td>\n",
       "      <td>NaN</td>\n",
       "      <td>-1.512</td>\n",
       "      <td>40203010</td>\n",
       "    </tr>\n",
       "    <tr>\n",
       "      <th>67374</th>\n",
       "      <td>NaN</td>\n",
       "      <td>2015.0</td>\n",
       "      <td>94024.000</td>\n",
       "      <td>8345.000</td>\n",
       "      <td>48378.000</td>\n",
       "      <td>0.000</td>\n",
       "      <td>NaN</td>\n",
       "      <td>110.000</td>\n",
       "      <td>60.000</td>\n",
       "      <td>61.000</td>\n",
       "      <td>...</td>\n",
       "      <td>NaN</td>\n",
       "      <td>239.000</td>\n",
       "      <td>88648.000</td>\n",
       "      <td>850.0</td>\n",
       "      <td>4526.000</td>\n",
       "      <td>2594.000</td>\n",
       "      <td>791.000</td>\n",
       "      <td>NaN</td>\n",
       "      <td>442.000</td>\n",
       "      <td>40101010</td>\n",
       "    </tr>\n",
       "    <tr>\n",
       "      <th>67375</th>\n",
       "      <td>NaN</td>\n",
       "      <td>2015.0</td>\n",
       "      <td>94024.000</td>\n",
       "      <td>NaN</td>\n",
       "      <td>NaN</td>\n",
       "      <td>NaN</td>\n",
       "      <td>NaN</td>\n",
       "      <td>110.000</td>\n",
       "      <td>60.000</td>\n",
       "      <td>61.000</td>\n",
       "      <td>...</td>\n",
       "      <td>NaN</td>\n",
       "      <td>239.000</td>\n",
       "      <td>88648.000</td>\n",
       "      <td>850.0</td>\n",
       "      <td>4526.000</td>\n",
       "      <td>NaN</td>\n",
       "      <td>NaN</td>\n",
       "      <td>NaN</td>\n",
       "      <td>442.000</td>\n",
       "      <td>40101010</td>\n",
       "    </tr>\n",
       "    <tr>\n",
       "      <th>13797</th>\n",
       "      <td>NaN</td>\n",
       "      <td>2016.0</td>\n",
       "      <td>29.187</td>\n",
       "      <td>3.590</td>\n",
       "      <td>NaN</td>\n",
       "      <td>0.000</td>\n",
       "      <td>10.318</td>\n",
       "      <td>0.000</td>\n",
       "      <td>18.263</td>\n",
       "      <td>0.000</td>\n",
       "      <td>...</td>\n",
       "      <td>6.053</td>\n",
       "      <td>0.000</td>\n",
       "      <td>6.053</td>\n",
       "      <td>0.0</td>\n",
       "      <td>23.052</td>\n",
       "      <td>0.000</td>\n",
       "      <td>0.000</td>\n",
       "      <td>NaN</td>\n",
       "      <td>-1.193</td>\n",
       "      <td>40203010</td>\n",
       "    </tr>\n",
       "    <tr>\n",
       "      <th>67376</th>\n",
       "      <td>NaN</td>\n",
       "      <td>2016.0</td>\n",
       "      <td>94657.000</td>\n",
       "      <td>7133.000</td>\n",
       "      <td>46907.000</td>\n",
       "      <td>0.000</td>\n",
       "      <td>NaN</td>\n",
       "      <td>104.000</td>\n",
       "      <td>46.000</td>\n",
       "      <td>70.000</td>\n",
       "      <td>...</td>\n",
       "      <td>NaN</td>\n",
       "      <td>1039.000</td>\n",
       "      <td>89242.000</td>\n",
       "      <td>850.0</td>\n",
       "      <td>4565.000</td>\n",
       "      <td>2694.000</td>\n",
       "      <td>724.000</td>\n",
       "      <td>NaN</td>\n",
       "      <td>524.000</td>\n",
       "      <td>40101010</td>\n",
       "    </tr>\n",
       "    <tr>\n",
       "      <th>67377</th>\n",
       "      <td>NaN</td>\n",
       "      <td>2016.0</td>\n",
       "      <td>94657.000</td>\n",
       "      <td>NaN</td>\n",
       "      <td>NaN</td>\n",
       "      <td>NaN</td>\n",
       "      <td>NaN</td>\n",
       "      <td>104.000</td>\n",
       "      <td>46.000</td>\n",
       "      <td>70.000</td>\n",
       "      <td>...</td>\n",
       "      <td>NaN</td>\n",
       "      <td>1039.000</td>\n",
       "      <td>89242.000</td>\n",
       "      <td>850.0</td>\n",
       "      <td>4565.000</td>\n",
       "      <td>NaN</td>\n",
       "      <td>NaN</td>\n",
       "      <td>NaN</td>\n",
       "      <td>524.000</td>\n",
       "      <td>40101010</td>\n",
       "    </tr>\n",
       "    <tr>\n",
       "      <th>13798</th>\n",
       "      <td>NaN</td>\n",
       "      <td>2017.0</td>\n",
       "      <td>23.453</td>\n",
       "      <td>1.642</td>\n",
       "      <td>NaN</td>\n",
       "      <td>0.000</td>\n",
       "      <td>3.268</td>\n",
       "      <td>0.000</td>\n",
       "      <td>19.562</td>\n",
       "      <td>0.000</td>\n",
       "      <td>...</td>\n",
       "      <td>0.633</td>\n",
       "      <td>0.000</td>\n",
       "      <td>0.633</td>\n",
       "      <td>0.0</td>\n",
       "      <td>22.820</td>\n",
       "      <td>0.100</td>\n",
       "      <td>1.057</td>\n",
       "      <td>NaN</td>\n",
       "      <td>-1.826</td>\n",
       "      <td>40203010</td>\n",
       "    </tr>\n",
       "    <tr>\n",
       "      <th>67378</th>\n",
       "      <td>NaN</td>\n",
       "      <td>2017.0</td>\n",
       "      <td>96379.000</td>\n",
       "      <td>7810.000</td>\n",
       "      <td>50337.000</td>\n",
       "      <td>0.000</td>\n",
       "      <td>NaN</td>\n",
       "      <td>106.000</td>\n",
       "      <td>40.000</td>\n",
       "      <td>90.000</td>\n",
       "      <td>...</td>\n",
       "      <td>NaN</td>\n",
       "      <td>1039.000</td>\n",
       "      <td>90669.000</td>\n",
       "      <td>850.0</td>\n",
       "      <td>4860.000</td>\n",
       "      <td>2809.000</td>\n",
       "      <td>625.000</td>\n",
       "      <td>NaN</td>\n",
       "      <td>668.000</td>\n",
       "      <td>40101010</td>\n",
       "    </tr>\n",
       "    <tr>\n",
       "      <th>67379</th>\n",
       "      <td>NaN</td>\n",
       "      <td>2017.0</td>\n",
       "      <td>96379.000</td>\n",
       "      <td>NaN</td>\n",
       "      <td>NaN</td>\n",
       "      <td>NaN</td>\n",
       "      <td>NaN</td>\n",
       "      <td>106.000</td>\n",
       "      <td>40.000</td>\n",
       "      <td>90.000</td>\n",
       "      <td>...</td>\n",
       "      <td>NaN</td>\n",
       "      <td>1039.000</td>\n",
       "      <td>90669.000</td>\n",
       "      <td>850.0</td>\n",
       "      <td>4860.000</td>\n",
       "      <td>NaN</td>\n",
       "      <td>NaN</td>\n",
       "      <td>NaN</td>\n",
       "      <td>668.000</td>\n",
       "      <td>40101010</td>\n",
       "    </tr>\n",
       "    <tr>\n",
       "      <th>13799</th>\n",
       "      <td>NaN</td>\n",
       "      <td>2018.0</td>\n",
       "      <td>24.964</td>\n",
       "      <td>3.077</td>\n",
       "      <td>NaN</td>\n",
       "      <td>0.000</td>\n",
       "      <td>3.241</td>\n",
       "      <td>0.000</td>\n",
       "      <td>19.565</td>\n",
       "      <td>0.000</td>\n",
       "      <td>...</td>\n",
       "      <td>0.624</td>\n",
       "      <td>0.000</td>\n",
       "      <td>0.624</td>\n",
       "      <td>0.0</td>\n",
       "      <td>24.340</td>\n",
       "      <td>0.440</td>\n",
       "      <td>1.196</td>\n",
       "      <td>NaN</td>\n",
       "      <td>1.427</td>\n",
       "      <td>40203010</td>\n",
       "    </tr>\n",
       "    <tr>\n",
       "      <th>67380</th>\n",
       "      <td>NaN</td>\n",
       "      <td>2018.0</td>\n",
       "      <td>103406.000</td>\n",
       "      <td>7167.000</td>\n",
       "      <td>57123.000</td>\n",
       "      <td>0.000</td>\n",
       "      <td>NaN</td>\n",
       "      <td>101.000</td>\n",
       "      <td>2.000</td>\n",
       "      <td>121.000</td>\n",
       "      <td>...</td>\n",
       "      <td>NaN</td>\n",
       "      <td>1039.000</td>\n",
       "      <td>97823.000</td>\n",
       "      <td>850.0</td>\n",
       "      <td>4733.000</td>\n",
       "      <td>3393.000</td>\n",
       "      <td>1102.000</td>\n",
       "      <td>NaN</td>\n",
       "      <td>718.000</td>\n",
       "      <td>40101010</td>\n",
       "    </tr>\n",
       "    <tr>\n",
       "      <th>67381</th>\n",
       "      <td>NaN</td>\n",
       "      <td>2018.0</td>\n",
       "      <td>103406.000</td>\n",
       "      <td>NaN</td>\n",
       "      <td>NaN</td>\n",
       "      <td>NaN</td>\n",
       "      <td>NaN</td>\n",
       "      <td>101.000</td>\n",
       "      <td>2.000</td>\n",
       "      <td>121.000</td>\n",
       "      <td>...</td>\n",
       "      <td>NaN</td>\n",
       "      <td>1039.000</td>\n",
       "      <td>97823.000</td>\n",
       "      <td>850.0</td>\n",
       "      <td>4733.000</td>\n",
       "      <td>NaN</td>\n",
       "      <td>NaN</td>\n",
       "      <td>NaN</td>\n",
       "      <td>718.000</td>\n",
       "      <td>40101010</td>\n",
       "    </tr>\n",
       "    <tr>\n",
       "      <th>13800</th>\n",
       "      <td>NaN</td>\n",
       "      <td>2019.0</td>\n",
       "      <td>61.259</td>\n",
       "      <td>50.074</td>\n",
       "      <td>NaN</td>\n",
       "      <td>0.000</td>\n",
       "      <td>51.831</td>\n",
       "      <td>0.305</td>\n",
       "      <td>0.256</td>\n",
       "      <td>0.000</td>\n",
       "      <td>...</td>\n",
       "      <td>4.740</td>\n",
       "      <td>0.138</td>\n",
       "      <td>4.878</td>\n",
       "      <td>0.0</td>\n",
       "      <td>56.381</td>\n",
       "      <td>1.425</td>\n",
       "      <td>1.831</td>\n",
       "      <td>NaN</td>\n",
       "      <td>34.145</td>\n",
       "      <td>40203010</td>\n",
       "    </tr>\n",
       "    <tr>\n",
       "      <th>67382</th>\n",
       "      <td>NaN</td>\n",
       "      <td>2019.0</td>\n",
       "      <td>106571.000</td>\n",
       "      <td>7507.000</td>\n",
       "      <td>61922.000</td>\n",
       "      <td>0.000</td>\n",
       "      <td>NaN</td>\n",
       "      <td>339.000</td>\n",
       "      <td>1.000</td>\n",
       "      <td>155.000</td>\n",
       "      <td>...</td>\n",
       "      <td>NaN</td>\n",
       "      <td>1307.000</td>\n",
       "      <td>100462.000</td>\n",
       "      <td>1100.0</td>\n",
       "      <td>5009.000</td>\n",
       "      <td>3702.000</td>\n",
       "      <td>1595.000</td>\n",
       "      <td>NaN</td>\n",
       "      <td>595.000</td>\n",
       "      <td>40101010</td>\n",
       "    </tr>\n",
       "    <tr>\n",
       "      <th>67383</th>\n",
       "      <td>NaN</td>\n",
       "      <td>2019.0</td>\n",
       "      <td>106571.000</td>\n",
       "      <td>NaN</td>\n",
       "      <td>NaN</td>\n",
       "      <td>NaN</td>\n",
       "      <td>NaN</td>\n",
       "      <td>339.000</td>\n",
       "      <td>1.000</td>\n",
       "      <td>155.000</td>\n",
       "      <td>...</td>\n",
       "      <td>NaN</td>\n",
       "      <td>1307.000</td>\n",
       "      <td>100462.000</td>\n",
       "      <td>1100.0</td>\n",
       "      <td>5009.000</td>\n",
       "      <td>NaN</td>\n",
       "      <td>NaN</td>\n",
       "      <td>NaN</td>\n",
       "      <td>595.000</td>\n",
       "      <td>40101010</td>\n",
       "    </tr>\n",
       "    <tr>\n",
       "      <th>13801</th>\n",
       "      <td>NaN</td>\n",
       "      <td>2020.0</td>\n",
       "      <td>62.260</td>\n",
       "      <td>44.055</td>\n",
       "      <td>NaN</td>\n",
       "      <td>0.000</td>\n",
       "      <td>45.295</td>\n",
       "      <td>0.000</td>\n",
       "      <td>0.174</td>\n",
       "      <td>0.000</td>\n",
       "      <td>...</td>\n",
       "      <td>0.797</td>\n",
       "      <td>0.000</td>\n",
       "      <td>1.065</td>\n",
       "      <td>0.0</td>\n",
       "      <td>61.195</td>\n",
       "      <td>2.013</td>\n",
       "      <td>1.672</td>\n",
       "      <td>NaN</td>\n",
       "      <td>0.657</td>\n",
       "      <td>40203010</td>\n",
       "    </tr>\n",
       "    <tr>\n",
       "      <th>51383</th>\n",
       "      <td>NaN</td>\n",
       "      <td>2020.0</td>\n",
       "      <td>9.357</td>\n",
       "      <td>5.376</td>\n",
       "      <td>1.169</td>\n",
       "      <td>1.101</td>\n",
       "      <td>8.979</td>\n",
       "      <td>0.279</td>\n",
       "      <td>0.000</td>\n",
       "      <td>0.015</td>\n",
       "      <td>...</td>\n",
       "      <td>16.698</td>\n",
       "      <td>0.042</td>\n",
       "      <td>16.740</td>\n",
       "      <td>0.0</td>\n",
       "      <td>-7.383</td>\n",
       "      <td>0.324</td>\n",
       "      <td>0.139</td>\n",
       "      <td>5.246</td>\n",
       "      <td>-5.737</td>\n",
       "      <td>45301020</td>\n",
       "    </tr>\n",
       "    <tr>\n",
       "      <th>67384</th>\n",
       "      <td>NaN</td>\n",
       "      <td>2020.0</td>\n",
       "      <td>117347.000</td>\n",
       "      <td>23029.000</td>\n",
       "      <td>61002.000</td>\n",
       "      <td>0.000</td>\n",
       "      <td>NaN</td>\n",
       "      <td>277.000</td>\n",
       "      <td>NaN</td>\n",
       "      <td>167.000</td>\n",
       "      <td>...</td>\n",
       "      <td>NaN</td>\n",
       "      <td>1237.000</td>\n",
       "      <td>110465.000</td>\n",
       "      <td>1100.0</td>\n",
       "      <td>5782.000</td>\n",
       "      <td>3103.000</td>\n",
       "      <td>1406.000</td>\n",
       "      <td>NaN</td>\n",
       "      <td>308.000</td>\n",
       "      <td>40101010</td>\n",
       "    </tr>\n",
       "    <tr>\n",
       "      <th>67385</th>\n",
       "      <td>NaN</td>\n",
       "      <td>2020.0</td>\n",
       "      <td>117347.000</td>\n",
       "      <td>NaN</td>\n",
       "      <td>NaN</td>\n",
       "      <td>NaN</td>\n",
       "      <td>NaN</td>\n",
       "      <td>277.000</td>\n",
       "      <td>NaN</td>\n",
       "      <td>167.000</td>\n",
       "      <td>...</td>\n",
       "      <td>NaN</td>\n",
       "      <td>1237.000</td>\n",
       "      <td>110465.000</td>\n",
       "      <td>1100.0</td>\n",
       "      <td>5782.000</td>\n",
       "      <td>NaN</td>\n",
       "      <td>NaN</td>\n",
       "      <td>NaN</td>\n",
       "      <td>308.000</td>\n",
       "      <td>40101010</td>\n",
       "    </tr>\n",
       "    <tr>\n",
       "      <th>13802</th>\n",
       "      <td>NaN</td>\n",
       "      <td>2021.0</td>\n",
       "      <td>64.021</td>\n",
       "      <td>36.924</td>\n",
       "      <td>0.589</td>\n",
       "      <td>0.000</td>\n",
       "      <td>37.600</td>\n",
       "      <td>0.120</td>\n",
       "      <td>0.230</td>\n",
       "      <td>0.000</td>\n",
       "      <td>...</td>\n",
       "      <td>0.686</td>\n",
       "      <td>0.145</td>\n",
       "      <td>1.405</td>\n",
       "      <td>0.0</td>\n",
       "      <td>62.616</td>\n",
       "      <td>1.871</td>\n",
       "      <td>1.952</td>\n",
       "      <td>NaN</td>\n",
       "      <td>-0.461</td>\n",
       "      <td>40203010</td>\n",
       "    </tr>\n",
       "    <tr>\n",
       "      <th>51384</th>\n",
       "      <td>NaN</td>\n",
       "      <td>2021.0</td>\n",
       "      <td>143.226</td>\n",
       "      <td>41.833</td>\n",
       "      <td>5.207</td>\n",
       "      <td>33.668</td>\n",
       "      <td>140.644</td>\n",
       "      <td>2.582</td>\n",
       "      <td>0.000</td>\n",
       "      <td>0.000</td>\n",
       "      <td>...</td>\n",
       "      <td>146.774</td>\n",
       "      <td>0.334</td>\n",
       "      <td>147.108</td>\n",
       "      <td>0.0</td>\n",
       "      <td>-3.882</td>\n",
       "      <td>6.209</td>\n",
       "      <td>6.442</td>\n",
       "      <td>22.898</td>\n",
       "      <td>-27.540</td>\n",
       "      <td>45301020</td>\n",
       "    </tr>\n",
       "    <tr>\n",
       "      <th>67386</th>\n",
       "      <td>NaN</td>\n",
       "      <td>2021.0</td>\n",
       "      <td>119853.000</td>\n",
       "      <td>24681.000</td>\n",
       "      <td>68699.000</td>\n",
       "      <td>0.000</td>\n",
       "      <td>NaN</td>\n",
       "      <td>263.000</td>\n",
       "      <td>NaN</td>\n",
       "      <td>181.000</td>\n",
       "      <td>...</td>\n",
       "      <td>NaN</td>\n",
       "      <td>1236.000</td>\n",
       "      <td>112977.000</td>\n",
       "      <td>1100.0</td>\n",
       "      <td>5776.000</td>\n",
       "      <td>2802.000</td>\n",
       "      <td>542.000</td>\n",
       "      <td>NaN</td>\n",
       "      <td>717.000</td>\n",
       "      <td>40101010</td>\n",
       "    </tr>\n",
       "    <tr>\n",
       "      <th>67387</th>\n",
       "      <td>NaN</td>\n",
       "      <td>2021.0</td>\n",
       "      <td>119853.000</td>\n",
       "      <td>NaN</td>\n",
       "      <td>NaN</td>\n",
       "      <td>NaN</td>\n",
       "      <td>NaN</td>\n",
       "      <td>263.000</td>\n",
       "      <td>NaN</td>\n",
       "      <td>181.000</td>\n",
       "      <td>...</td>\n",
       "      <td>NaN</td>\n",
       "      <td>1236.000</td>\n",
       "      <td>112977.000</td>\n",
       "      <td>1100.0</td>\n",
       "      <td>5776.000</td>\n",
       "      <td>NaN</td>\n",
       "      <td>NaN</td>\n",
       "      <td>NaN</td>\n",
       "      <td>717.000</td>\n",
       "      <td>40101010</td>\n",
       "    </tr>\n",
       "    <tr>\n",
       "      <th>13803</th>\n",
       "      <td>NaN</td>\n",
       "      <td>2022.0</td>\n",
       "      <td>70.773</td>\n",
       "      <td>26.007</td>\n",
       "      <td>13.005</td>\n",
       "      <td>0.000</td>\n",
       "      <td>39.090</td>\n",
       "      <td>0.092</td>\n",
       "      <td>0.404</td>\n",
       "      <td>0.000</td>\n",
       "      <td>...</td>\n",
       "      <td>0.946</td>\n",
       "      <td>0.116</td>\n",
       "      <td>2.378</td>\n",
       "      <td>0.0</td>\n",
       "      <td>68.395</td>\n",
       "      <td>2.972</td>\n",
       "      <td>2.341</td>\n",
       "      <td>NaN</td>\n",
       "      <td>2.796</td>\n",
       "      <td>40203010</td>\n",
       "    </tr>\n",
       "    <tr>\n",
       "      <th>51385</th>\n",
       "      <td>NaN</td>\n",
       "      <td>2022.0</td>\n",
       "      <td>53.245</td>\n",
       "      <td>12.738</td>\n",
       "      <td>3.441</td>\n",
       "      <td>14.818</td>\n",
       "      <td>41.851</td>\n",
       "      <td>4.331</td>\n",
       "      <td>0.000</td>\n",
       "      <td>7.063</td>\n",
       "      <td>...</td>\n",
       "      <td>26.626</td>\n",
       "      <td>2.782</td>\n",
       "      <td>29.408</td>\n",
       "      <td>0.0</td>\n",
       "      <td>23.837</td>\n",
       "      <td>142.547</td>\n",
       "      <td>108.606</td>\n",
       "      <td>19.117</td>\n",
       "      <td>4.512</td>\n",
       "      <td>45301020</td>\n",
       "    </tr>\n",
       "    <tr>\n",
       "      <th>67388</th>\n",
       "      <td>NaN</td>\n",
       "      <td>2022.0</td>\n",
       "      <td>128302.000</td>\n",
       "      <td>NaN</td>\n",
       "      <td>NaN</td>\n",
       "      <td>NaN</td>\n",
       "      <td>NaN</td>\n",
       "      <td>332.000</td>\n",
       "      <td>NaN</td>\n",
       "      <td>160.000</td>\n",
       "      <td>...</td>\n",
       "      <td>NaN</td>\n",
       "      <td>1275.000</td>\n",
       "      <td>122384.000</td>\n",
       "      <td>1100.0</td>\n",
       "      <td>4818.000</td>\n",
       "      <td>NaN</td>\n",
       "      <td>NaN</td>\n",
       "      <td>NaN</td>\n",
       "      <td>792.000</td>\n",
       "      <td>40101010</td>\n",
       "    </tr>\n",
       "    <tr>\n",
       "      <th>67389</th>\n",
       "      <td>NaN</td>\n",
       "      <td>2022.0</td>\n",
       "      <td>128302.000</td>\n",
       "      <td>12682.000</td>\n",
       "      <td>74862.000</td>\n",
       "      <td>0.000</td>\n",
       "      <td>NaN</td>\n",
       "      <td>332.000</td>\n",
       "      <td>NaN</td>\n",
       "      <td>160.000</td>\n",
       "      <td>...</td>\n",
       "      <td>NaN</td>\n",
       "      <td>1275.000</td>\n",
       "      <td>122384.000</td>\n",
       "      <td>1100.0</td>\n",
       "      <td>4818.000</td>\n",
       "      <td>4133.000</td>\n",
       "      <td>1695.000</td>\n",
       "      <td>NaN</td>\n",
       "      <td>792.000</td>\n",
       "      <td>40101010</td>\n",
       "    </tr>\n",
       "    <tr>\n",
       "      <th>13804</th>\n",
       "      <td>NaN</td>\n",
       "      <td>2023.0</td>\n",
       "      <td>74.170</td>\n",
       "      <td>27.664</td>\n",
       "      <td>4.521</td>\n",
       "      <td>0.000</td>\n",
       "      <td>32.280</td>\n",
       "      <td>6.696</td>\n",
       "      <td>0.000</td>\n",
       "      <td>0.000</td>\n",
       "      <td>...</td>\n",
       "      <td>1.009</td>\n",
       "      <td>0.085</td>\n",
       "      <td>2.867</td>\n",
       "      <td>0.0</td>\n",
       "      <td>71.303</td>\n",
       "      <td>3.865</td>\n",
       "      <td>2.237</td>\n",
       "      <td>NaN</td>\n",
       "      <td>2.294</td>\n",
       "      <td>40203010</td>\n",
       "    </tr>\n",
       "    <tr>\n",
       "      <th>51386</th>\n",
       "      <td>NaN</td>\n",
       "      <td>2023.0</td>\n",
       "      <td>49.403</td>\n",
       "      <td>6.852</td>\n",
       "      <td>5.046</td>\n",
       "      <td>1.816</td>\n",
       "      <td>17.698</td>\n",
       "      <td>24.973</td>\n",
       "      <td>0.000</td>\n",
       "      <td>6.732</td>\n",
       "      <td>...</td>\n",
       "      <td>34.210</td>\n",
       "      <td>17.486</td>\n",
       "      <td>51.696</td>\n",
       "      <td>0.0</td>\n",
       "      <td>-2.078</td>\n",
       "      <td>11.048</td>\n",
       "      <td>25.013</td>\n",
       "      <td>12.495</td>\n",
       "      <td>-35.656</td>\n",
       "      <td>45301020</td>\n",
       "    </tr>\n",
       "    <tr>\n",
       "      <th>67390</th>\n",
       "      <td>NaN</td>\n",
       "      <td>2023.0</td>\n",
       "      <td>119710.000</td>\n",
       "      <td>11089.000</td>\n",
       "      <td>74093.000</td>\n",
       "      <td>0.000</td>\n",
       "      <td>NaN</td>\n",
       "      <td>325.000</td>\n",
       "      <td>NaN</td>\n",
       "      <td>32.000</td>\n",
       "      <td>...</td>\n",
       "      <td>NaN</td>\n",
       "      <td>10199.000</td>\n",
       "      <td>112675.000</td>\n",
       "      <td>1100.0</td>\n",
       "      <td>5935.000</td>\n",
       "      <td>6167.000</td>\n",
       "      <td>3576.000</td>\n",
       "      <td>NaN</td>\n",
       "      <td>828.000</td>\n",
       "      <td>40101010</td>\n",
       "    </tr>\n",
       "    <tr>\n",
       "      <th>67391</th>\n",
       "      <td>NaN</td>\n",
       "      <td>2023.0</td>\n",
       "      <td>119710.000</td>\n",
       "      <td>NaN</td>\n",
       "      <td>NaN</td>\n",
       "      <td>NaN</td>\n",
       "      <td>NaN</td>\n",
       "      <td>325.000</td>\n",
       "      <td>NaN</td>\n",
       "      <td>32.000</td>\n",
       "      <td>...</td>\n",
       "      <td>NaN</td>\n",
       "      <td>10199.000</td>\n",
       "      <td>112675.000</td>\n",
       "      <td>1100.0</td>\n",
       "      <td>5935.000</td>\n",
       "      <td>NaN</td>\n",
       "      <td>NaN</td>\n",
       "      <td>NaN</td>\n",
       "      <td>828.000</td>\n",
       "      <td>40101010</td>\n",
       "    </tr>\n",
       "  </tbody>\n",
       "</table>\n",
       "<p>34 rows × 23 columns</p>\n",
       "</div>"
      ],
      "text/plain": [
       "       tic   fyear          at        che       rect    invt      act  \\\n",
       "13795  NaN  2014.0      31.713      2.174        NaN   0.000    3.345   \n",
       "67372  NaN  2014.0   88204.000   8127.000  41219.000   0.000      NaN   \n",
       "67373  NaN  2014.0   88204.000        NaN        NaN     NaN      NaN   \n",
       "13796  NaN  2015.0      31.103      3.993        NaN   0.000    5.050   \n",
       "67374  NaN  2015.0   94024.000   8345.000  48378.000   0.000      NaN   \n",
       "67375  NaN  2015.0   94024.000        NaN        NaN     NaN      NaN   \n",
       "13797  NaN  2016.0      29.187      3.590        NaN   0.000   10.318   \n",
       "67376  NaN  2016.0   94657.000   7133.000  46907.000   0.000      NaN   \n",
       "67377  NaN  2016.0   94657.000        NaN        NaN     NaN      NaN   \n",
       "13798  NaN  2017.0      23.453      1.642        NaN   0.000    3.268   \n",
       "67378  NaN  2017.0   96379.000   7810.000  50337.000   0.000      NaN   \n",
       "67379  NaN  2017.0   96379.000        NaN        NaN     NaN      NaN   \n",
       "13799  NaN  2018.0      24.964      3.077        NaN   0.000    3.241   \n",
       "67380  NaN  2018.0  103406.000   7167.000  57123.000   0.000      NaN   \n",
       "67381  NaN  2018.0  103406.000        NaN        NaN     NaN      NaN   \n",
       "13800  NaN  2019.0      61.259     50.074        NaN   0.000   51.831   \n",
       "67382  NaN  2019.0  106571.000   7507.000  61922.000   0.000      NaN   \n",
       "67383  NaN  2019.0  106571.000        NaN        NaN     NaN      NaN   \n",
       "13801  NaN  2020.0      62.260     44.055        NaN   0.000   45.295   \n",
       "51383  NaN  2020.0       9.357      5.376      1.169   1.101    8.979   \n",
       "67384  NaN  2020.0  117347.000  23029.000  61002.000   0.000      NaN   \n",
       "67385  NaN  2020.0  117347.000        NaN        NaN     NaN      NaN   \n",
       "13802  NaN  2021.0      64.021     36.924      0.589   0.000   37.600   \n",
       "51384  NaN  2021.0     143.226     41.833      5.207  33.668  140.644   \n",
       "67386  NaN  2021.0  119853.000  24681.000  68699.000   0.000      NaN   \n",
       "67387  NaN  2021.0  119853.000        NaN        NaN     NaN      NaN   \n",
       "13803  NaN  2022.0      70.773     26.007     13.005   0.000   39.090   \n",
       "51385  NaN  2022.0      53.245     12.738      3.441  14.818   41.851   \n",
       "67388  NaN  2022.0  128302.000        NaN        NaN     NaN      NaN   \n",
       "67389  NaN  2022.0  128302.000  12682.000  74862.000   0.000      NaN   \n",
       "13804  NaN  2023.0      74.170     27.664      4.521   0.000   32.280   \n",
       "51386  NaN  2023.0      49.403      6.852      5.046   1.816   17.698   \n",
       "67390  NaN  2023.0  119710.000  11089.000  74093.000   0.000      NaN   \n",
       "67391  NaN  2023.0  119710.000        NaN        NaN     NaN      NaN   \n",
       "\n",
       "         ppent   ivaeq    intan  ...      lct       dltt          lt    pstk  \\\n",
       "13795    9.046  18.422    0.000  ...    5.582      0.000       6.425     0.0   \n",
       "67372  124.000  93.000   62.000  ...      NaN    239.000   83204.000   350.0   \n",
       "67373  124.000  93.000   62.000  ...      NaN    239.000   83204.000   350.0   \n",
       "13796    5.752  19.679    0.000  ...    5.211      0.000       6.285     0.0   \n",
       "67374  110.000  60.000   61.000  ...      NaN    239.000   88648.000   850.0   \n",
       "67375  110.000  60.000   61.000  ...      NaN    239.000   88648.000   850.0   \n",
       "13797    0.000  18.263    0.000  ...    6.053      0.000       6.053     0.0   \n",
       "67376  104.000  46.000   70.000  ...      NaN   1039.000   89242.000   850.0   \n",
       "67377  104.000  46.000   70.000  ...      NaN   1039.000   89242.000   850.0   \n",
       "13798    0.000  19.562    0.000  ...    0.633      0.000       0.633     0.0   \n",
       "67378  106.000  40.000   90.000  ...      NaN   1039.000   90669.000   850.0   \n",
       "67379  106.000  40.000   90.000  ...      NaN   1039.000   90669.000   850.0   \n",
       "13799    0.000  19.565    0.000  ...    0.624      0.000       0.624     0.0   \n",
       "67380  101.000   2.000  121.000  ...      NaN   1039.000   97823.000   850.0   \n",
       "67381  101.000   2.000  121.000  ...      NaN   1039.000   97823.000   850.0   \n",
       "13800    0.305   0.256    0.000  ...    4.740      0.138       4.878     0.0   \n",
       "67382  339.000   1.000  155.000  ...      NaN   1307.000  100462.000  1100.0   \n",
       "67383  339.000   1.000  155.000  ...      NaN   1307.000  100462.000  1100.0   \n",
       "13801    0.000   0.174    0.000  ...    0.797      0.000       1.065     0.0   \n",
       "51383    0.279   0.000    0.015  ...   16.698      0.042      16.740     0.0   \n",
       "67384  277.000     NaN  167.000  ...      NaN   1237.000  110465.000  1100.0   \n",
       "67385  277.000     NaN  167.000  ...      NaN   1237.000  110465.000  1100.0   \n",
       "13802    0.120   0.230    0.000  ...    0.686      0.145       1.405     0.0   \n",
       "51384    2.582   0.000    0.000  ...  146.774      0.334     147.108     0.0   \n",
       "67386  263.000     NaN  181.000  ...      NaN   1236.000  112977.000  1100.0   \n",
       "67387  263.000     NaN  181.000  ...      NaN   1236.000  112977.000  1100.0   \n",
       "13803    0.092   0.404    0.000  ...    0.946      0.116       2.378     0.0   \n",
       "51385    4.331   0.000    7.063  ...   26.626      2.782      29.408     0.0   \n",
       "67388  332.000     NaN  160.000  ...      NaN   1275.000  122384.000  1100.0   \n",
       "67389  332.000     NaN  160.000  ...      NaN   1275.000  122384.000  1100.0   \n",
       "13804    6.696   0.000    0.000  ...    1.009      0.085       2.867     0.0   \n",
       "51386   24.973   0.000    6.732  ...   34.210     17.486      51.696     0.0   \n",
       "67390  325.000     NaN   32.000  ...      NaN  10199.000  112675.000  1100.0   \n",
       "67391  325.000     NaN   32.000  ...      NaN  10199.000  112675.000  1100.0   \n",
       "\n",
       "            ceq      sale      cogs     xrd       ib      GICS  \n",
       "13795    23.693     3.919     8.130     NaN   -5.541  40203010  \n",
       "67372  4450.000  2795.000   781.000     NaN  639.000  40101010  \n",
       "67373  4450.000       NaN       NaN     NaN  639.000  40101010  \n",
       "13796    24.467     2.610     4.200     NaN   -1.512  40203010  \n",
       "67374  4526.000  2594.000   791.000     NaN  442.000  40101010  \n",
       "67375  4526.000       NaN       NaN     NaN  442.000  40101010  \n",
       "13797    23.052     0.000     0.000     NaN   -1.193  40203010  \n",
       "67376  4565.000  2694.000   724.000     NaN  524.000  40101010  \n",
       "67377  4565.000       NaN       NaN     NaN  524.000  40101010  \n",
       "13798    22.820     0.100     1.057     NaN   -1.826  40203010  \n",
       "67378  4860.000  2809.000   625.000     NaN  668.000  40101010  \n",
       "67379  4860.000       NaN       NaN     NaN  668.000  40101010  \n",
       "13799    24.340     0.440     1.196     NaN    1.427  40203010  \n",
       "67380  4733.000  3393.000  1102.000     NaN  718.000  40101010  \n",
       "67381  4733.000       NaN       NaN     NaN  718.000  40101010  \n",
       "13800    56.381     1.425     1.831     NaN   34.145  40203010  \n",
       "67382  5009.000  3702.000  1595.000     NaN  595.000  40101010  \n",
       "67383  5009.000       NaN       NaN     NaN  595.000  40101010  \n",
       "13801    61.195     2.013     1.672     NaN    0.657  40203010  \n",
       "51383    -7.383     0.324     0.139   5.246   -5.737  45301020  \n",
       "67384  5782.000  3103.000  1406.000     NaN  308.000  40101010  \n",
       "67385  5782.000       NaN       NaN     NaN  308.000  40101010  \n",
       "13802    62.616     1.871     1.952     NaN   -0.461  40203010  \n",
       "51384    -3.882     6.209     6.442  22.898  -27.540  45301020  \n",
       "67386  5776.000  2802.000   542.000     NaN  717.000  40101010  \n",
       "67387  5776.000       NaN       NaN     NaN  717.000  40101010  \n",
       "13803    68.395     2.972     2.341     NaN    2.796  40203010  \n",
       "51385    23.837   142.547   108.606  19.117    4.512  45301020  \n",
       "67388  4818.000       NaN       NaN     NaN  792.000  40101010  \n",
       "67389  4818.000  4133.000  1695.000     NaN  792.000  40101010  \n",
       "13804    71.303     3.865     2.237     NaN    2.294  40203010  \n",
       "51386    -2.078    11.048    25.013  12.495  -35.656  45301020  \n",
       "67390  5935.000  6167.000  3576.000     NaN  828.000  40101010  \n",
       "67391  5935.000       NaN       NaN     NaN  828.000  40101010  \n",
       "\n",
       "[34 rows x 23 columns]"
      ]
     },
     "execution_count": 8,
     "metadata": {},
     "output_type": "execute_result"
    }
   ],
   "source": [
    "# Check obs. with \"tic\" missing\n",
    "raw_data_drop_dup1[raw_data_drop_dup1[\"tic\"].isna()]"
   ]
  },
  {
   "cell_type": "code",
   "execution_count": 9,
   "id": "bc738582-af03-487c-b740-df914ce9ff7e",
   "metadata": {
    "execution": {
     "iopub.execute_input": "2024-08-12T20:57:40.375691Z",
     "iopub.status.busy": "2024-08-12T20:57:40.375471Z",
     "iopub.status.idle": "2024-08-12T20:57:40.434762Z",
     "shell.execute_reply": "2024-08-12T20:57:40.433821Z",
     "shell.execute_reply.started": "2024-08-12T20:57:40.375669Z"
    }
   },
   "outputs": [
    {
     "name": "stdout",
     "output_type": "stream",
     "text": [
      "10537 duplicated obs. are dropped.\n",
      "The size of raw_data is (81848, 21).\n"
     ]
    }
   ],
   "source": [
    "# Drop duplicates manually\n",
    "index_drop_dup = [67223, 67225, 67227, 67229, 67231, 67233, 67235, 67237, 67239, 67241]\n",
    "raw_data_drop_dup2 = raw_data_drop_dup1.drop(index=index_drop_dup)\n",
    "\n",
    "raw_data_drop_useless = raw_data_drop_dup2.drop(columns=[\"tic\", \"fyear\"])\n",
    "\n",
    "# Check data shape\n",
    "raw_shape3 =  raw_data_drop_useless.shape\n",
    "print(f\"{raw_shape2[0] - raw_shape3[0]} duplicated obs. are dropped.\")\n",
    "print(f\"The size of raw_data is {raw_shape3}.\")"
   ]
  },
  {
   "cell_type": "markdown",
   "id": "9579bb07-3b22-48b2-b1b6-108e453583d8",
   "metadata": {},
   "source": [
    "##### Total assets\n",
    "\"at\" is the total assets. \\\n",
    "Since we need to use common size based on it, \"at\" must be available and positive."
   ]
  },
  {
   "cell_type": "code",
   "execution_count": 10,
   "id": "54fecbd2-f49e-470e-9e9a-2a26e6c42b43",
   "metadata": {
    "execution": {
     "iopub.execute_input": "2024-08-12T20:57:40.435970Z",
     "iopub.status.busy": "2024-08-12T20:57:40.435743Z",
     "iopub.status.idle": "2024-08-12T20:57:40.495483Z",
     "shell.execute_reply": "2024-08-12T20:57:40.494508Z",
     "shell.execute_reply.started": "2024-08-12T20:57:40.435947Z"
    }
   },
   "outputs": [
    {
     "name": "stdout",
     "output_type": "stream",
     "text": [
      "2463 obs. are dropped because of cleaning at.\n",
      "The size of raw_data is (79385, 21).\n"
     ]
    }
   ],
   "source": [
    "# Clean observations whose total assets are missing or <=0\n",
    "def clean_at(dataset):\n",
    "    \n",
    "    dataset.dropna(subset=[\"at\"], inplace=True)                           # drop rows without \"at\"\n",
    "    dataset.drop(index = dataset[dataset[\"at\"] <= 0].index, inplace=True) # Drop rows with \"at\" < 0\n",
    "    dataset.reset_index(drop=True, inplace=True)                          # reset index\n",
    "\n",
    "    return dataset\n",
    "\n",
    "# Run function\n",
    "raw_data_clean_at = clean_at(raw_data_drop_useless)\n",
    "\n",
    "# Check data shape\n",
    "raw_shape4 =  raw_data_clean_at.shape\n",
    "print(f\"{raw_shape3[0] - raw_shape4[0]} obs. are dropped because of cleaning at.\")\n",
    "print(f\"The size of raw_data is {raw_shape4}.\")"
   ]
  },
  {
   "cell_type": "code",
   "execution_count": 11,
   "id": "690ca425-8e5f-4e53-b533-8decdae73d29",
   "metadata": {
    "execution": {
     "iopub.execute_input": "2024-08-12T20:57:40.496615Z",
     "iopub.status.busy": "2024-08-12T20:57:40.496390Z",
     "iopub.status.idle": "2024-08-12T20:57:40.556769Z",
     "shell.execute_reply": "2024-08-12T20:57:40.555792Z",
     "shell.execute_reply.started": "2024-08-12T20:57:40.496593Z"
    }
   },
   "outputs": [
    {
     "name": "stdout",
     "output_type": "stream",
     "text": [
      "10984 obs. are dropped because of balance sheet items >= at.\n",
      "The size of raw_data is (68401, 21).\n"
     ]
    }
   ],
   "source": [
    "# Filter out balance sheet items >= total assets\n",
    "def clean_balance_sheet_at(dataset):\n",
    "    \n",
    "    index1 = set()                                             # create a set to store index values\n",
    "\n",
    "    # For loop to find index with at least on item is >= total asset\n",
    "    for col in dataset.columns[1:16]:\n",
    "        indices = dataset[dataset[col] >= dataset[\"at\"]].index # return index\n",
    "        index1.update(indices)                                 # update index\n",
    "    # For loop ends\n",
    "\n",
    "    dataset.drop(index=index1, inplace=True)                   # drop rows with selected index\n",
    "    dataset.reset_index(drop=True, inplace=True)               # reset index\n",
    "\n",
    "    return dataset\n",
    "\n",
    "# Run function\n",
    "raw_data_clean_bs = clean_balance_sheet_at(raw_data_clean_at)\n",
    "\n",
    "# Check data shape\n",
    "raw_shape5 =  raw_data_clean_bs.shape\n",
    "print(f\"{raw_shape4[0] - raw_shape5[0]} obs. are dropped because of balance sheet items >= at.\")\n",
    "print(f\"The size of raw_data is {raw_shape5}.\")"
   ]
  },
  {
   "cell_type": "code",
   "execution_count": 12,
   "id": "732e5483-5f08-47e7-ab80-186de1f138ea",
   "metadata": {
    "execution": {
     "iopub.execute_input": "2024-08-12T20:57:40.557830Z",
     "iopub.status.busy": "2024-08-12T20:57:40.557607Z",
     "iopub.status.idle": "2024-08-12T20:57:40.609326Z",
     "shell.execute_reply": "2024-08-12T20:57:40.608367Z",
     "shell.execute_reply.started": "2024-08-12T20:57:40.557807Z"
    }
   },
   "outputs": [
    {
     "name": "stdout",
     "output_type": "stream",
     "text": [
      "795 obs. are dropped because of balance sheet items < 0.\n",
      "The size of raw_data is (67606, 21).\n"
     ]
    }
   ],
   "source": [
    "# Filter out balance sheet items < 0\n",
    "def clean_balance_sheet_0(dataset):\n",
    "    \n",
    "    index2 = set()                               # create a set to store index values\n",
    "\n",
    "    # For loop to find index with at least on item is < 0\n",
    "    for col in dataset.columns[1:16]:\n",
    "        indices = dataset[dataset[col] <0].index # return index\n",
    "        index2.update(indices)                   # update index\n",
    "    # For loop ends\n",
    "\n",
    "    dataset.drop(index=index2, inplace=True)     # drop rows with selected index\n",
    "    dataset.reset_index(drop=True, inplace=True) # reset index\n",
    "\n",
    "    return dataset\n",
    "\n",
    "# Run function\n",
    "raw_data_clean_bs0 = clean_balance_sheet_0(raw_data_clean_bs)\n",
    "\n",
    "# Check data shape\n",
    "raw_shape6 =  raw_data_clean_bs0.shape\n",
    "print(f\"{raw_shape5[0] - raw_shape6[0]} obs. are dropped because of balance sheet items < 0.\")\n",
    "print(f\"The size of raw_data is {raw_shape6}.\")"
   ]
  },
  {
   "cell_type": "code",
   "execution_count": 13,
   "id": "30604481-df0c-49f1-ad34-7528d0a2ccbc",
   "metadata": {
    "execution": {
     "iopub.execute_input": "2024-08-12T20:57:40.610721Z",
     "iopub.status.busy": "2024-08-12T20:57:40.610397Z",
     "iopub.status.idle": "2024-08-12T20:57:40.665005Z",
     "shell.execute_reply": "2024-08-12T20:57:40.664048Z",
     "shell.execute_reply.started": "2024-08-12T20:57:40.610698Z"
    }
   },
   "outputs": [
    {
     "name": "stdout",
     "output_type": "stream",
     "text": [
      "7348 obs. are dropped because of cleaning sales.\n",
      "The size of raw_data is (60258, 21).\n"
     ]
    }
   ],
   "source": [
    "# Filter out rows with sales <= 0\n",
    "def clean_sale(dataset):\n",
    "    \n",
    "    dataset.dropna(subset=[\"sale\"], inplace=True)                           # drop rows without \"sale\"\n",
    "    dataset.drop(index = dataset[dataset[\"sale\"] <= 0].index, inplace=True) # drop rows with \"sale\" <=0\n",
    "    dataset.reset_index(drop=True, inplace=True)                            # reset index\n",
    "\n",
    "    return dataset\n",
    "\n",
    "# Run function\n",
    "raw_data_clean_sale = clean_sale(raw_data_clean_bs0)\n",
    "\n",
    "# Check data shape\n",
    "raw_shape7 =  raw_data_clean_sale.shape\n",
    "print(f\"{raw_shape6[0] - raw_shape7[0]} obs. are dropped because of cleaning sales.\")\n",
    "print(f\"The size of raw_data is {raw_shape7}.\")"
   ]
  },
  {
   "cell_type": "code",
   "execution_count": 14,
   "id": "1561815a-5dd0-4913-b8b3-cca0def70649",
   "metadata": {
    "execution": {
     "iopub.execute_input": "2024-08-12T20:57:40.666254Z",
     "iopub.status.busy": "2024-08-12T20:57:40.665935Z",
     "iopub.status.idle": "2024-08-12T20:57:40.718119Z",
     "shell.execute_reply": "2024-08-12T20:57:40.717060Z",
     "shell.execute_reply.started": "2024-08-12T20:57:40.666231Z"
    }
   },
   "outputs": [
    {
     "name": "stdout",
     "output_type": "stream",
     "text": [
      "19402 obs. are dropped because of cleaning ivnt.\n",
      "The size of raw_data is (40856, 21).\n"
     ]
    }
   ],
   "source": [
    "def clean_invt(dataset):\n",
    "    \n",
    "    dataset.dropna(subset=[\"invt\"], inplace=True)                           # drop rows without \"invt\"\n",
    "    dataset.drop(index = dataset[dataset[\"invt\"] <= 0].index, inplace=True) # Drop rows with \"invt\" <=0\n",
    "    dataset.reset_index(drop=True, inplace=True)                            # reset index\n",
    "\n",
    "    return dataset\n",
    "\n",
    "# Run function\n",
    "raw_data_clean_invt = clean_invt(raw_data_clean_sale)\n",
    "\n",
    "# Check data shape\n",
    "raw_shape8 =  raw_data_clean_sale.shape\n",
    "print(f\"{raw_shape7[0] - raw_shape8[0]} obs. are dropped because of cleaning ivnt.\")\n",
    "print(f\"The size of raw_data is {raw_shape8}.\")"
   ]
  },
  {
   "cell_type": "code",
   "execution_count": 15,
   "id": "2c0804f8-b5c9-4fff-a1fb-eb7a6e8593a7",
   "metadata": {
    "execution": {
     "iopub.execute_input": "2024-08-12T20:57:40.719303Z",
     "iopub.status.busy": "2024-08-12T20:57:40.719063Z",
     "iopub.status.idle": "2024-08-12T20:57:40.753351Z",
     "shell.execute_reply": "2024-08-12T20:57:40.752567Z",
     "shell.execute_reply.started": "2024-08-12T20:57:40.719280Z"
    }
   },
   "outputs": [],
   "source": [
    "# Assign new object to cleaned data\n",
    "raw_data_final = raw_data_clean_invt"
   ]
  },
  {
   "cell_type": "markdown",
   "id": "c0558752-bcf2-4d5e-b5bf-927b6c8b7357",
   "metadata": {},
   "source": [
    "### Sample a test set"
   ]
  },
  {
   "cell_type": "code",
   "execution_count": 16,
   "id": "710d053d-7542-495e-89c0-3741f971b481",
   "metadata": {
    "execution": {
     "iopub.execute_input": "2024-08-12T20:57:40.754449Z",
     "iopub.status.busy": "2024-08-12T20:57:40.754260Z",
     "iopub.status.idle": "2024-08-12T20:57:40.833683Z",
     "shell.execute_reply": "2024-08-12T20:57:40.832520Z",
     "shell.execute_reply.started": "2024-08-12T20:57:40.754430Z"
    }
   },
   "outputs": [],
   "source": [
    "# Train test split\n",
    "train_X, test_X, train_y, test_y = train_test_split(raw_data_final.drop(columns=[\"GICS\"]), # features\n",
    "                                                    raw_data_final[\"GICS\"],                # label\n",
    "                                                    test_size=0.3,                         # test size\n",
    "                                                    random_state=42,                       # for reproducibility\n",
    "                                                    shuffle=True,                          # shuffle the data for randomness\n",
    "                                                    stratify=raw_data_final[\"GICS\"])\n",
    "\n",
    "train_data = pd.concat([train_X, train_y], axis=1)  # combine features and label"
   ]
  },
  {
   "cell_type": "markdown",
   "id": "2afc6018-9f32-49f2-9565-8e0c066ac5c3",
   "metadata": {},
   "source": [
    "# 2 Explore the data"
   ]
  },
  {
   "cell_type": "code",
   "execution_count": 17,
   "id": "c8b3366d-8aa1-43a0-98a9-943765062906",
   "metadata": {
    "execution": {
     "iopub.execute_input": "2024-08-12T20:57:40.834838Z",
     "iopub.status.busy": "2024-08-12T20:57:40.834619Z",
     "iopub.status.idle": "2024-08-12T20:57:40.866012Z",
     "shell.execute_reply": "2024-08-12T20:57:40.865180Z",
     "shell.execute_reply.started": "2024-08-12T20:57:40.834817Z"
    }
   },
   "outputs": [],
   "source": [
    "# Create a copy of data for exploration\n",
    "explore_df = train_data.copy(deep=True)"
   ]
  },
  {
   "cell_type": "markdown",
   "id": "ae0efb57-a648-45e1-b1dc-ad149e97fd9f",
   "metadata": {
    "execution": {
     "iopub.execute_input": "2024-07-30T11:28:48.107568Z",
     "iopub.status.busy": "2024-07-30T11:28:48.107049Z",
     "iopub.status.idle": "2024-07-30T11:28:48.113033Z",
     "shell.execute_reply": "2024-07-30T11:28:48.111714Z",
     "shell.execute_reply.started": "2024-07-30T11:28:48.107517Z"
    }
   },
   "source": [
    "### Characteristics of each attribute"
   ]
  },
  {
   "cell_type": "code",
   "execution_count": 18,
   "id": "99190f97-70f0-4634-a72d-210979fe9ef8",
   "metadata": {
    "execution": {
     "iopub.execute_input": "2024-08-12T20:57:40.867177Z",
     "iopub.status.busy": "2024-08-12T20:57:40.866961Z",
     "iopub.status.idle": "2024-08-12T20:57:40.896384Z",
     "shell.execute_reply": "2024-08-12T20:57:40.895546Z",
     "shell.execute_reply.started": "2024-08-12T20:57:40.867158Z"
    }
   },
   "outputs": [
    {
     "data": {
      "text/plain": [
       "Index(['at', 'che', 'rect', 'invt', 'act', 'ppent', 'ivaeq', 'intan', 'ap',\n",
       "       'dlc', 'ui', 'lct', 'dltt', 'lt', 'pstk', 'ceq', 'sale', 'cogs', 'xrd',\n",
       "       'ib', 'GICS'],\n",
       "      dtype='object')"
      ]
     },
     "execution_count": 18,
     "metadata": {},
     "output_type": "execute_result"
    }
   ],
   "source": [
    "# Feature names\n",
    "explore_df.columns"
   ]
  },
  {
   "cell_type": "code",
   "execution_count": 19,
   "id": "e07aeb14-1112-42b3-875e-75f3535fc2a7",
   "metadata": {
    "execution": {
     "iopub.execute_input": "2024-08-12T20:57:40.897245Z",
     "iopub.status.busy": "2024-08-12T20:57:40.897029Z",
     "iopub.status.idle": "2024-08-12T20:57:40.925232Z",
     "shell.execute_reply": "2024-08-12T20:57:40.924381Z",
     "shell.execute_reply.started": "2024-08-12T20:57:40.897214Z"
    }
   },
   "outputs": [
    {
     "data": {
      "text/plain": [
       "at       float64\n",
       "che      float64\n",
       "rect     float64\n",
       "invt     float64\n",
       "act      float64\n",
       "ppent    float64\n",
       "ivaeq    float64\n",
       "intan    float64\n",
       "ap       float64\n",
       "dlc      float64\n",
       "ui       float64\n",
       "lct      float64\n",
       "dltt     float64\n",
       "lt       float64\n",
       "pstk     float64\n",
       "ceq      float64\n",
       "sale     float64\n",
       "cogs     float64\n",
       "xrd      float64\n",
       "ib       float64\n",
       "GICS      object\n",
       "dtype: object"
      ]
     },
     "execution_count": 19,
     "metadata": {},
     "output_type": "execute_result"
    }
   ],
   "source": [
    "# Type\n",
    "explore_df.dtypes"
   ]
  },
  {
   "cell_type": "code",
   "execution_count": 20,
   "id": "c997fb9d-55f3-402d-8736-bd641152f70a",
   "metadata": {
    "execution": {
     "iopub.execute_input": "2024-08-12T20:57:40.926213Z",
     "iopub.status.busy": "2024-08-12T20:57:40.926019Z",
     "iopub.status.idle": "2024-08-12T20:57:41.011991Z",
     "shell.execute_reply": "2024-08-12T20:57:41.011249Z",
     "shell.execute_reply.started": "2024-08-12T20:57:40.926194Z"
    }
   },
   "outputs": [
    {
     "data": {
      "text/html": [
       "<div>\n",
       "<style scoped>\n",
       "    .dataframe tbody tr th:only-of-type {\n",
       "        vertical-align: middle;\n",
       "    }\n",
       "\n",
       "    .dataframe tbody tr th {\n",
       "        vertical-align: top;\n",
       "    }\n",
       "\n",
       "    .dataframe thead th {\n",
       "        text-align: right;\n",
       "    }\n",
       "</style>\n",
       "<table border=\"1\" class=\"dataframe\">\n",
       "  <thead>\n",
       "    <tr style=\"text-align: right;\">\n",
       "      <th></th>\n",
       "      <th>at</th>\n",
       "      <th>che</th>\n",
       "      <th>rect</th>\n",
       "      <th>invt</th>\n",
       "      <th>act</th>\n",
       "      <th>ppent</th>\n",
       "      <th>ivaeq</th>\n",
       "      <th>intan</th>\n",
       "      <th>ap</th>\n",
       "      <th>dlc</th>\n",
       "      <th>ui</th>\n",
       "      <th>lct</th>\n",
       "      <th>dltt</th>\n",
       "      <th>lt</th>\n",
       "      <th>pstk</th>\n",
       "      <th>ceq</th>\n",
       "      <th>sale</th>\n",
       "      <th>cogs</th>\n",
       "      <th>xrd</th>\n",
       "      <th>ib</th>\n",
       "    </tr>\n",
       "  </thead>\n",
       "  <tbody>\n",
       "    <tr>\n",
       "      <th>count</th>\n",
       "      <td>2.859900e+04</td>\n",
       "      <td>2.859700e+04</td>\n",
       "      <td>2.849300e+04</td>\n",
       "      <td>28599.000000</td>\n",
       "      <td>24157.000000</td>\n",
       "      <td>28516.000000</td>\n",
       "      <td>26440.000000</td>\n",
       "      <td>28258.000000</td>\n",
       "      <td>2.852500e+04</td>\n",
       "      <td>28595.000000</td>\n",
       "      <td>0.0</td>\n",
       "      <td>24151.000000</td>\n",
       "      <td>28525.000000</td>\n",
       "      <td>2.856700e+04</td>\n",
       "      <td>28527.000000</td>\n",
       "      <td>28549.000000</td>\n",
       "      <td>28599.000000</td>\n",
       "      <td>28599.000000</td>\n",
       "      <td>13930.000000</td>\n",
       "      <td>28599.000000</td>\n",
       "    </tr>\n",
       "    <tr>\n",
       "      <th>mean</th>\n",
       "      <td>2.005510e+04</td>\n",
       "      <td>2.677269e+03</td>\n",
       "      <td>5.895662e+03</td>\n",
       "      <td>1165.418104</td>\n",
       "      <td>2740.948055</td>\n",
       "      <td>3517.045365</td>\n",
       "      <td>338.583559</td>\n",
       "      <td>2014.389949</td>\n",
       "      <td>6.987654e+03</td>\n",
       "      <td>1463.272468</td>\n",
       "      <td>NaN</td>\n",
       "      <td>2177.298164</td>\n",
       "      <td>3461.116324</td>\n",
       "      <td>1.570999e+04</td>\n",
       "      <td>78.285764</td>\n",
       "      <td>4063.906981</td>\n",
       "      <td>6117.586099</td>\n",
       "      <td>4032.243322</td>\n",
       "      <td>303.662787</td>\n",
       "      <td>446.956584</td>\n",
       "    </tr>\n",
       "    <tr>\n",
       "      <th>std</th>\n",
       "      <td>1.318582e+05</td>\n",
       "      <td>2.641614e+04</td>\n",
       "      <td>5.343459e+04</td>\n",
       "      <td>12176.646971</td>\n",
       "      <td>10644.372739</td>\n",
       "      <td>14358.397574</td>\n",
       "      <td>2283.956343</td>\n",
       "      <td>9002.574786</td>\n",
       "      <td>7.311128e+04</td>\n",
       "      <td>14638.226978</td>\n",
       "      <td>NaN</td>\n",
       "      <td>9024.907275</td>\n",
       "      <td>15782.641738</td>\n",
       "      <td>1.197090e+05</td>\n",
       "      <td>955.429317</td>\n",
       "      <td>16573.838362</td>\n",
       "      <td>24547.486448</td>\n",
       "      <td>18269.858759</td>\n",
       "      <td>1724.309805</td>\n",
       "      <td>2616.154410</td>\n",
       "    </tr>\n",
       "    <tr>\n",
       "      <th>min</th>\n",
       "      <td>1.500000e-02</td>\n",
       "      <td>0.000000e+00</td>\n",
       "      <td>0.000000e+00</td>\n",
       "      <td>0.001000</td>\n",
       "      <td>0.012000</td>\n",
       "      <td>0.000000</td>\n",
       "      <td>0.000000</td>\n",
       "      <td>0.000000</td>\n",
       "      <td>0.000000e+00</td>\n",
       "      <td>0.000000</td>\n",
       "      <td>NaN</td>\n",
       "      <td>0.008000</td>\n",
       "      <td>0.000000</td>\n",
       "      <td>8.000000e-03</td>\n",
       "      <td>0.000000</td>\n",
       "      <td>0.000000</td>\n",
       "      <td>0.001000</td>\n",
       "      <td>-3703.000000</td>\n",
       "      <td>-0.648000</td>\n",
       "      <td>-22440.000000</td>\n",
       "    </tr>\n",
       "    <tr>\n",
       "      <th>25%</th>\n",
       "      <td>2.216260e+02</td>\n",
       "      <td>1.592800e+01</td>\n",
       "      <td>1.596800e+01</td>\n",
       "      <td>5.358000</td>\n",
       "      <td>63.243000</td>\n",
       "      <td>17.560250</td>\n",
       "      <td>0.000000</td>\n",
       "      <td>1.309500</td>\n",
       "      <td>9.448000e+00</td>\n",
       "      <td>1.000000</td>\n",
       "      <td>NaN</td>\n",
       "      <td>27.924500</td>\n",
       "      <td>6.159000</td>\n",
       "      <td>8.430750e+01</td>\n",
       "      <td>0.000000</td>\n",
       "      <td>77.901000</td>\n",
       "      <td>78.032500</td>\n",
       "      <td>31.385000</td>\n",
       "      <td>0.864750</td>\n",
       "      <td>-5.459500</td>\n",
       "    </tr>\n",
       "    <tr>\n",
       "      <th>50%</th>\n",
       "      <td>1.245902e+03</td>\n",
       "      <td>8.200000e+01</td>\n",
       "      <td>1.344000e+02</td>\n",
       "      <td>44.148000</td>\n",
       "      <td>327.500000</td>\n",
       "      <td>151.136500</td>\n",
       "      <td>0.000000</td>\n",
       "      <td>50.901500</td>\n",
       "      <td>7.691400e+01</td>\n",
       "      <td>14.985000</td>\n",
       "      <td>NaN</td>\n",
       "      <td>161.760000</td>\n",
       "      <td>145.471000</td>\n",
       "      <td>6.950000e+02</td>\n",
       "      <td>0.000000</td>\n",
       "      <td>391.979000</td>\n",
       "      <td>546.526000</td>\n",
       "      <td>283.087000</td>\n",
       "      <td>12.900000</td>\n",
       "      <td>15.935000</td>\n",
       "    </tr>\n",
       "    <tr>\n",
       "      <th>75%</th>\n",
       "      <td>5.966752e+03</td>\n",
       "      <td>3.960000e+02</td>\n",
       "      <td>7.356680e+02</td>\n",
       "      <td>287.950000</td>\n",
       "      <td>1362.900000</td>\n",
       "      <td>1217.775000</td>\n",
       "      <td>3.944250</td>\n",
       "      <td>623.999500</td>\n",
       "      <td>5.710000e+02</td>\n",
       "      <td>150.588000</td>\n",
       "      <td>NaN</td>\n",
       "      <td>868.359500</td>\n",
       "      <td>1330.300000</td>\n",
       "      <td>3.844760e+03</td>\n",
       "      <td>0.000000</td>\n",
       "      <td>1790.400000</td>\n",
       "      <td>2932.962000</td>\n",
       "      <td>1747.900000</td>\n",
       "      <td>78.475000</td>\n",
       "      <td>175.272500</td>\n",
       "    </tr>\n",
       "    <tr>\n",
       "      <th>max</th>\n",
       "      <td>3.875393e+06</td>\n",
       "      <td>1.007321e+06</td>\n",
       "      <td>1.297301e+06</td>\n",
       "      <td>530917.000000</td>\n",
       "      <td>264889.386000</td>\n",
       "      <td>292684.091000</td>\n",
       "      <td>47094.000000</td>\n",
       "      <td>310197.000000</td>\n",
       "      <td>2.462303e+06</td>\n",
       "      <td>511853.440000</td>\n",
       "      <td>NaN</td>\n",
       "      <td>227561.873000</td>\n",
       "      <td>349484.000000</td>\n",
       "      <td>3.547515e+06</td>\n",
       "      <td>34838.000000</td>\n",
       "      <td>561273.000000</td>\n",
       "      <td>608481.000000</td>\n",
       "      <td>452776.000000</td>\n",
       "      <td>85622.000000</td>\n",
       "      <td>96995.000000</td>\n",
       "    </tr>\n",
       "  </tbody>\n",
       "</table>\n",
       "</div>"
      ],
      "text/plain": [
       "                 at           che          rect           invt            act  \\\n",
       "count  2.859900e+04  2.859700e+04  2.849300e+04   28599.000000   24157.000000   \n",
       "mean   2.005510e+04  2.677269e+03  5.895662e+03    1165.418104    2740.948055   \n",
       "std    1.318582e+05  2.641614e+04  5.343459e+04   12176.646971   10644.372739   \n",
       "min    1.500000e-02  0.000000e+00  0.000000e+00       0.001000       0.012000   \n",
       "25%    2.216260e+02  1.592800e+01  1.596800e+01       5.358000      63.243000   \n",
       "50%    1.245902e+03  8.200000e+01  1.344000e+02      44.148000     327.500000   \n",
       "75%    5.966752e+03  3.960000e+02  7.356680e+02     287.950000    1362.900000   \n",
       "max    3.875393e+06  1.007321e+06  1.297301e+06  530917.000000  264889.386000   \n",
       "\n",
       "               ppent         ivaeq          intan            ap  \\\n",
       "count   28516.000000  26440.000000   28258.000000  2.852500e+04   \n",
       "mean     3517.045365    338.583559    2014.389949  6.987654e+03   \n",
       "std     14358.397574   2283.956343    9002.574786  7.311128e+04   \n",
       "min         0.000000      0.000000       0.000000  0.000000e+00   \n",
       "25%        17.560250      0.000000       1.309500  9.448000e+00   \n",
       "50%       151.136500      0.000000      50.901500  7.691400e+01   \n",
       "75%      1217.775000      3.944250     623.999500  5.710000e+02   \n",
       "max    292684.091000  47094.000000  310197.000000  2.462303e+06   \n",
       "\n",
       "                 dlc   ui            lct           dltt            lt  \\\n",
       "count   28595.000000  0.0   24151.000000   28525.000000  2.856700e+04   \n",
       "mean     1463.272468  NaN    2177.298164    3461.116324  1.570999e+04   \n",
       "std     14638.226978  NaN    9024.907275   15782.641738  1.197090e+05   \n",
       "min         0.000000  NaN       0.008000       0.000000  8.000000e-03   \n",
       "25%         1.000000  NaN      27.924500       6.159000  8.430750e+01   \n",
       "50%        14.985000  NaN     161.760000     145.471000  6.950000e+02   \n",
       "75%       150.588000  NaN     868.359500    1330.300000  3.844760e+03   \n",
       "max    511853.440000  NaN  227561.873000  349484.000000  3.547515e+06   \n",
       "\n",
       "               pstk            ceq           sale           cogs  \\\n",
       "count  28527.000000   28549.000000   28599.000000   28599.000000   \n",
       "mean      78.285764    4063.906981    6117.586099    4032.243322   \n",
       "std      955.429317   16573.838362   24547.486448   18269.858759   \n",
       "min        0.000000       0.000000       0.001000   -3703.000000   \n",
       "25%        0.000000      77.901000      78.032500      31.385000   \n",
       "50%        0.000000     391.979000     546.526000     283.087000   \n",
       "75%        0.000000    1790.400000    2932.962000    1747.900000   \n",
       "max    34838.000000  561273.000000  608481.000000  452776.000000   \n",
       "\n",
       "                xrd            ib  \n",
       "count  13930.000000  28599.000000  \n",
       "mean     303.662787    446.956584  \n",
       "std     1724.309805   2616.154410  \n",
       "min       -0.648000 -22440.000000  \n",
       "25%        0.864750     -5.459500  \n",
       "50%       12.900000     15.935000  \n",
       "75%       78.475000    175.272500  \n",
       "max    85622.000000  96995.000000  "
      ]
     },
     "execution_count": 20,
     "metadata": {},
     "output_type": "execute_result"
    }
   ],
   "source": [
    "# Statistical summary\n",
    "explore_df.describe()"
   ]
  },
  {
   "cell_type": "markdown",
   "id": "aadcd87b-2b2d-4c55-8b3f-bce408c62b6b",
   "metadata": {},
   "source": [
    "### Missing values"
   ]
  },
  {
   "cell_type": "code",
   "execution_count": 21,
   "id": "b8a6a522-f0d6-4b5f-9981-6ac58341be6d",
   "metadata": {
    "execution": {
     "iopub.execute_input": "2024-08-12T20:57:41.016859Z",
     "iopub.status.busy": "2024-08-12T20:57:41.016663Z",
     "iopub.status.idle": "2024-08-12T20:57:41.061654Z",
     "shell.execute_reply": "2024-08-12T20:57:41.060770Z",
     "shell.execute_reply.started": "2024-08-12T20:57:41.016841Z"
    }
   },
   "outputs": [
    {
     "name": "stdout",
     "output_type": "stream",
     "text": [
      "Proportion of missing values in each attributes:\n",
      "ui       100.00\n",
      "xrd       51.29\n",
      "lct       15.55\n",
      "act       15.53\n",
      "ivaeq      7.55\n",
      "intan      1.19\n",
      "rect       0.37\n",
      "ppent      0.29\n",
      "dltt       0.26\n",
      "ap         0.26\n",
      "pstk       0.25\n",
      "ceq        0.17\n",
      "lt         0.11\n",
      "dlc        0.01\n",
      "che        0.01\n",
      "ib         0.00\n",
      "cogs       0.00\n",
      "at         0.00\n",
      "sale       0.00\n",
      "invt       0.00\n",
      "GICS       0.00\n",
      "dtype: float64\n",
      "\n",
      "9.18% values are missing in total.\n",
      "\n",
      "Proportion of zero values in each attributes:\n",
      "pstk     89.67\n",
      "ivaeq    65.08\n",
      "intan    17.65\n",
      "dlc      14.14\n",
      "dltt     11.30\n",
      "xrd       7.94\n",
      "che       0.90\n",
      "rect      0.55\n",
      "ap        0.40\n",
      "ppent     0.23\n",
      "cogs      0.03\n",
      "at        0.00\n",
      "ceq       0.00\n",
      "ib        0.00\n",
      "sale      0.00\n",
      "ui        0.00\n",
      "lt        0.00\n",
      "lct       0.00\n",
      "act       0.00\n",
      "invt      0.00\n",
      "GICS      0.00\n",
      "dtype: float64\n",
      "\n",
      "9.9% values are zero in total.\n"
     ]
    }
   ],
   "source": [
    "# % of missing values\n",
    "def prop_na(dataset):\n",
    "    global prop_na_col\n",
    "    prop_na_col = round((dataset.isna().sum() / len(dataset)) * 100, 2).sort_values(ascending=False)\n",
    "    prop_na = round((dataset.isna().sum().sum() / dataset.size) * 100, 2)\n",
    "\n",
    "    print(f\"Proportion of missing values in each attributes:\")\n",
    "    print(prop_na_col)\n",
    "    print(f\"\\n{prop_na}% values are missing in total.\\n\")\n",
    "\n",
    "# % of zero values\n",
    "def prop_0(dataset):\n",
    "    global prop_0_col\n",
    "    prop_0_col = round(((dataset == 0).sum() / len(dataset)) * 100, 2).sort_values(ascending=False)\n",
    "    prop_0 = round(((dataset == 0).sum().sum() / dataset.size) * 100, 2)\n",
    "\n",
    "    print(f\"Proportion of zero values in each attributes:\")\n",
    "    print(prop_0_col)\n",
    "    print(f\"\\n{prop_0}% values are zero in total.\")\n",
    "\n",
    "prop_na(explore_df)\n",
    "prop_0(explore_df)"
   ]
  },
  {
   "cell_type": "code",
   "execution_count": 22,
   "id": "60362ed8-9ce9-43f2-8041-0d25aa434e0a",
   "metadata": {
    "execution": {
     "iopub.execute_input": "2024-08-12T20:57:41.062608Z",
     "iopub.status.busy": "2024-08-12T20:57:41.062397Z",
     "iopub.status.idle": "2024-08-12T20:57:41.093657Z",
     "shell.execute_reply": "2024-08-12T20:57:41.092868Z",
     "shell.execute_reply.started": "2024-08-12T20:57:41.062588Z"
    }
   },
   "outputs": [
    {
     "data": {
      "text/plain": [
       "ui       100.00\n",
       "pstk      89.92\n",
       "ivaeq     72.63\n",
       "xrd       59.23\n",
       "intan     18.84\n",
       "lct       15.55\n",
       "act       15.53\n",
       "dlc       14.15\n",
       "dltt      11.56\n",
       "rect       0.92\n",
       "che        0.91\n",
       "ap         0.66\n",
       "ppent      0.52\n",
       "ceq        0.17\n",
       "lt         0.11\n",
       "cogs       0.03\n",
       "ib         0.00\n",
       "invt       0.00\n",
       "at         0.00\n",
       "sale       0.00\n",
       "GICS       0.00\n",
       "dtype: float64"
      ]
     },
     "execution_count": 22,
     "metadata": {},
     "output_type": "execute_result"
    }
   ],
   "source": [
    "# Total propotion of na and 0\n",
    "prop_0na_col = (prop_na_col + prop_0_col).sort_values(ascending=False)\n",
    "prop_0na_col"
   ]
  },
  {
   "cell_type": "code",
   "execution_count": 23,
   "id": "4bde7b3a-daa3-4b24-aca5-fede01b3bfff",
   "metadata": {
    "execution": {
     "iopub.execute_input": "2024-08-12T20:57:41.094870Z",
     "iopub.status.busy": "2024-08-12T20:57:41.094599Z",
     "iopub.status.idle": "2024-08-12T20:57:42.065940Z",
     "shell.execute_reply": "2024-08-12T20:57:42.064993Z",
     "shell.execute_reply.started": "2024-08-12T20:57:41.094850Z"
    }
   },
   "outputs": [
    {
     "name": "stdout",
     "output_type": "stream",
     "text": [
      "p value: 0.0\n"
     ]
    },
    {
     "data": {
      "image/png": "[encoded data removed]",
      "text/plain": [
       "<Figure size 2500x1000 with 2 Axes>"
      ]
     },
     "metadata": {},
     "output_type": "display_data"
    }
   ],
   "source": [
    "# MCAR test and structure of missing values\n",
    "def mcar(dataset, image_path=None, export_image=False):\n",
    "    \n",
    "    # Little's MCAR test\n",
    "    missing_data = dataset.isnull()        # extract missing values\n",
    "    mt = MCARTest(method=\"little\")         # run test\n",
    "    p_value = mt.little_mcar_test(dataset) # p-value\n",
    "    print(f\"p value: {p_value}\")\n",
    "\n",
    "    # Visualize missingness\n",
    "    msno.matrix(dataset)\n",
    "    \n",
    "    # Export the image\n",
    "    if export_image:\n",
    "        plt.savefig(image_path)\n",
    "    \n",
    "    plt.show()\n",
    "\n",
    "# Run function\n",
    "mcar(explore_df.iloc[:, :-1], image_path=\"missingness\", export_image=False)"
   ]
  },
  {
   "cell_type": "markdown",
   "id": "b6daf9d9-6057-49ef-8261-7ae1fc673655",
   "metadata": {},
   "source": [
    "This outcome suggests strong evidence against the null hypothesis of Missing Completely at Random (MCAR). \\\n",
    "The sparkline at right summarizes the general shape of the data completeness and points out the rows with the maximum and minimum nullity in the dataset.\\\n",
    "The distribution of missing values by sector."
   ]
  },
  {
   "cell_type": "markdown",
   "id": "73108d28-8262-4f78-a30a-97569f6e4c63",
   "metadata": {},
   "source": [
    "### Identify the target attributes"
   ]
  },
  {
   "cell_type": "code",
   "execution_count": 24,
   "id": "244fd670-1bd7-4b59-9eac-fb610b1fcdcf",
   "metadata": {
    "execution": {
     "iopub.execute_input": "2024-08-12T20:57:42.067546Z",
     "iopub.status.busy": "2024-08-12T20:57:42.067221Z",
     "iopub.status.idle": "2024-08-12T20:57:42.127728Z",
     "shell.execute_reply": "2024-08-12T20:57:42.126706Z",
     "shell.execute_reply.started": "2024-08-12T20:57:42.067518Z"
    }
   },
   "outputs": [],
   "source": [
    "# Extract levels of classes\n",
    "def split_gics(codes):\n",
    "\n",
    "    # Create empty list to store values\n",
    "    gics_l1 = []\n",
    "    gics_l2 = []\n",
    "    gics_l3 = []\n",
    "    gics_l4 = []\n",
    "\n",
    "    # For loop to add values\n",
    "    for code in codes:\n",
    "        gics_l1.append(code[:2])  # first 2 digits\n",
    "        gics_l2.append(code[2:4]) # 3&4 digits\n",
    "        gics_l3.append(code[4:6]) # 5&6 digits\n",
    "        gics_l4.append(code[6:8]) # last 2 digits\n",
    "\n",
    "    # Combine into a data frame\n",
    "    output = pd.DataFrame({\n",
    "        \"GL1\": gics_l1,\n",
    "        \"GL2\": gics_l2,\n",
    "        \"GL3\": gics_l3,\n",
    "        \"GL4\": gics_l4\n",
    "    })\n",
    "    \n",
    "    return output\n",
    "\n",
    "# Run function\n",
    "h_gics = split_gics(explore_df[\"GICS\"])"
   ]
  },
  {
   "cell_type": "code",
   "execution_count": 25,
   "id": "04d22efa-d878-4c76-b942-774db104e627",
   "metadata": {
    "execution": {
     "iopub.execute_input": "2024-08-12T20:57:42.128930Z",
     "iopub.status.busy": "2024-08-12T20:57:42.128709Z",
     "iopub.status.idle": "2024-08-12T20:57:42.168482Z",
     "shell.execute_reply": "2024-08-12T20:57:42.167551Z",
     "shell.execute_reply.started": "2024-08-12T20:57:42.128910Z"
    }
   },
   "outputs": [],
   "source": [
    "# Group by the specified label levels and get the size of each group\n",
    "labels_dist = h_gics.groupby([\"GL1\", \"GL2\", \"GL3\", \"GL4\"]).size()\n",
    "\n",
    "# Convert the Series to a DataFrame and rename the column to 'counts'\n",
    "labels_dist_df = labels_dist.reset_index(name='counts')\n",
    "\n",
    "# Calculate average and median\n",
    "mean_value = labels_dist_df['counts'].mean()\n",
    "median_value = labels_dist_df['counts'].median()"
   ]
  },
  {
   "cell_type": "code",
   "execution_count": 26,
   "id": "4b4edf42-2499-4198-baa3-fde4c6ffc963",
   "metadata": {
    "execution": {
     "iopub.execute_input": "2024-08-12T20:57:42.169606Z",
     "iopub.status.busy": "2024-08-12T20:57:42.169372Z",
     "iopub.status.idle": "2024-08-12T20:57:42.568126Z",
     "shell.execute_reply": "2024-08-12T20:57:42.567211Z",
     "shell.execute_reply.started": "2024-08-12T20:57:42.169586Z"
    }
   },
   "outputs": [
    {
     "data": {
      "image/png": "[encoded data removed]",
      "text/plain": [
       "<Figure size 800x600 with 1 Axes>"
      ]
     },
     "metadata": {},
     "output_type": "display_data"
    }
   ],
   "source": [
    "# Set the style for a black and white plot\n",
    "sns.set(style=\"white\", palette=\"dark\")\n",
    "\n",
    "# Create the histogram plot\n",
    "plt.figure(figsize=(8, 6))\n",
    "sns.histplot(data=labels_dist_df, x='counts', bins=100, color='grey')\n",
    "\n",
    "# Add vertical lines for mean and median with different styles\n",
    "plt.axvline(mean_value, color='black', linestyle=':', linewidth=2, label=f'Mean: {mean_value:.2f}') # Dotted line\n",
    "plt.axvline(median_value, color='black', linestyle='-.', linewidth=2, label=f'Median: {median_value:.2f}') # Dash-dot line\n",
    "\n",
    "# Add labels and title\n",
    "plt.xlabel('Counts', color='black')\n",
    "plt.ylabel('Frequency', color='black')\n",
    "plt.legend()\n",
    "\n",
    "# Remove borders\n",
    "sns.despine()\n",
    "\n",
    "# Set the ticks color to black\n",
    "plt.xticks(color='black')\n",
    "plt.yticks(color='black')\n",
    "\n",
    "#plt.savefig(\"label_freq\")\n",
    "\n",
    "# Show the plot\n",
    "plt.show()"
   ]
  },
  {
   "cell_type": "code",
   "execution_count": 27,
   "id": "6adafdf3-2cc0-4073-b90f-84854f09307d",
   "metadata": {
    "execution": {
     "iopub.execute_input": "2024-08-12T20:57:42.569231Z",
     "iopub.status.busy": "2024-08-12T20:57:42.569010Z",
     "iopub.status.idle": "2024-08-12T20:57:42.601860Z",
     "shell.execute_reply": "2024-08-12T20:57:42.600977Z",
     "shell.execute_reply.started": "2024-08-12T20:57:42.569211Z"
    }
   },
   "outputs": [
    {
     "data": {
      "text/plain": [
       "count     156.000000\n",
       "mean      183.326923\n",
       "std       297.753290\n",
       "min         1.000000\n",
       "25%        48.500000\n",
       "50%        99.000000\n",
       "75%       208.000000\n",
       "max      3119.000000\n",
       "dtype: float64"
      ]
     },
     "execution_count": 27,
     "metadata": {},
     "output_type": "execute_result"
    }
   ],
   "source": [
    "# Statistical summary\n",
    "labels_dist.describe()"
   ]
  },
  {
   "cell_type": "code",
   "execution_count": 28,
   "id": "735a6ed4-a39e-4fe0-95e2-e2a46ee72902",
   "metadata": {
    "execution": {
     "iopub.execute_input": "2024-08-12T20:57:42.602867Z",
     "iopub.status.busy": "2024-08-12T20:57:42.602668Z",
     "iopub.status.idle": "2024-08-12T20:57:42.635730Z",
     "shell.execute_reply": "2024-08-12T20:57:42.634924Z",
     "shell.execute_reply.started": "2024-08-12T20:57:42.602847Z"
    }
   },
   "outputs": [
    {
     "data": {
      "text/plain": [
       "['40301050', '20305020', '40301030', '60108030', '60108050', '60108020']"
      ]
     },
     "execution_count": 28,
     "metadata": {},
     "output_type": "execute_result"
    }
   ],
   "source": [
    "# Absent GICS codes\n",
    "unique_explore_gics = explore_df[\"GICS\"].unique()\n",
    "codes_not_in_gics = [code for code in set(gics_codes) if code not in unique_explore_gics]\n",
    "codes_not_in_gics"
   ]
  },
  {
   "cell_type": "markdown",
   "id": "54be14a7-5b07-48fc-8155-294d987a56c6",
   "metadata": {},
   "source": [
    "# 3 Prepare the data"
   ]
  },
  {
   "cell_type": "code",
   "execution_count": 29,
   "id": "a062855f-bf72-4b04-a0d1-5c1a21b73a13",
   "metadata": {
    "execution": {
     "iopub.execute_input": "2024-08-12T20:57:42.636836Z",
     "iopub.status.busy": "2024-08-12T20:57:42.636629Z",
     "iopub.status.idle": "2024-08-12T20:57:42.665534Z",
     "shell.execute_reply": "2024-08-12T20:57:42.664386Z",
     "shell.execute_reply.started": "2024-08-12T20:57:42.636817Z"
    }
   },
   "outputs": [],
   "source": [
    "# Create a copy of data\n",
    "prepare_df = train_X.copy(deep=True)\n",
    "\n",
    "# Fill missing values with zeros\n",
    "prepare_df = prepare_df.fillna(0)"
   ]
  },
  {
   "cell_type": "code",
   "execution_count": 30,
   "id": "ef1e06b6-4063-4a0c-84e6-b0bca195fd87",
   "metadata": {
    "execution": {
     "iopub.execute_input": "2024-08-12T20:57:42.666734Z",
     "iopub.status.busy": "2024-08-12T20:57:42.666440Z",
     "iopub.status.idle": "2024-08-12T20:57:42.706924Z",
     "shell.execute_reply": "2024-08-12T20:57:42.705887Z",
     "shell.execute_reply.started": "2024-08-12T20:57:42.666713Z"
    }
   },
   "outputs": [],
   "source": [
    "# Data engineering\n",
    "def data_eng(dataset):\n",
    "    new_data = pd.DataFrame({\n",
    "\n",
    "    # Compute common size components\n",
    "    ## Assets\n",
    "    \"A1\" : dataset[\"che\"] / dataset[\"at\"],   # Cash & Marketable Securities\n",
    "    \"A2\" : dataset[\"rect\"] / dataset[\"at\"],  # Receivables\n",
    "    \"A3\" : dataset[\"invt\"] / dataset[\"at\"],  # Inventories\n",
    "    \"A4\" : dataset[\"act\"] / dataset[\"at\"],   # Total current assets\n",
    "    \"A5\" : dataset[\"ppent\"] / dataset[\"at\"], # Net Plant & Equipment\n",
    "    \"A6\" : dataset[\"ivaeq\"] / dataset[\"at\"], # Investments\n",
    "    \"A7\" : dataset[\"intan\"] / dataset[\"at\"], # Goodwill & Intangibles\n",
    "\n",
    "    ## Liabilities\n",
    "    \"L1\" : dataset[\"ap\"] / dataset[\"at\"],   # Accounts Payable\n",
    "    \"L2\" : dataset[\"dlc\"] / dataset[\"at\"],  # Total debt in current liabilities\n",
    "    #\"L3\" : dataset[\"ui\"] / dataset[\"at\"],  # Unearned income (EXCLUDED)\n",
    "    \"L4\" : dataset[\"lct\"] / dataset[\"at\"],  # Total current liabilities\n",
    "    \"L5\" : dataset[\"dltt\"] / dataset[\"at\"], # total long-term debt\n",
    "    \"L6\" : dataset[\"lt\"] / dataset[\"at\"],   # Total liabilities\n",
    "\n",
    "    ## Equity\n",
    "    \"E1\" : dataset[\"pstk\"] / dataset[\"at\"], # Preferred stock\n",
    "    \"E2\" : dataset[\"ceq\"] / dataset[\"at\"],  # Common stock\n",
    "\n",
    "    ## Ratios\n",
    "    \"R1\" : (dataset[\"sale\"] - dataset[\"cogs\"]) / dataset[\"sale\"],                  # Gross Margin\n",
    "    \"R2\" : dataset[\"xrd\"] / dataset[\"sale\"],                                       # R&D/Sales\n",
    "    \"R3\" : dataset[\"ib\"] / dataset[\"sale\"],                                        # Net Income/Sales\n",
    "    \"R4\" : dataset[\"rect\"] * (dataset[\"sale\"] / 365),                              # Days of Receivables\n",
    "    \"R5\" : dataset[\"cogs\"] / dataset[\"invt\"],                                      # Inventory Turnover\n",
    "    \"R6\" : dataset[\"sale\"] / dataset[\"ppent\"],                                     # Fixed Asset Turnover\n",
    "    \"R7\" : dataset[\"sale\"] / dataset[\"at\"],                                        # Total Asset Turnover\n",
    "    \"R8\" : dataset[\"ib\"] /  dataset[\"at\"],                                         # Net Income/Assets\n",
    "    \"R9\" : dataset[\"ib\"] / dataset[\"ceq\"],                                         # Net Income/Equity\n",
    "    \"R10\" : dataset[\"at\"] / dataset[\"ceq\"],                                        # Assets/Equity\n",
    "    \"R11\" : (dataset[\"dlc\"] + dataset[\"dltt\"]) / dataset[\"ceq\"],                   # Debt/Equity\n",
    "    \"R12\" : dataset[\"dltt\"] / (dataset[\"pstk\"] + dataset[\"ceq\"] + dataset[\"dltt\"]) # L/T Debt/Total Capital\n",
    "    })\n",
    "\n",
    "    return new_data\n",
    "\n",
    "# Run function\n",
    "new_prepare_df = data_eng(prepare_df)"
   ]
  },
  {
   "cell_type": "code",
   "execution_count": 31,
   "id": "77259673-61f6-4e1e-a990-b52dc11945a9",
   "metadata": {
    "execution": {
     "iopub.execute_input": "2024-08-12T20:57:42.708029Z",
     "iopub.status.busy": "2024-08-12T20:57:42.707803Z",
     "iopub.status.idle": "2024-08-12T20:57:42.741881Z",
     "shell.execute_reply": "2024-08-12T20:57:42.741021Z",
     "shell.execute_reply.started": "2024-08-12T20:57:42.708008Z"
    }
   },
   "outputs": [
    {
     "name": "stdout",
     "output_type": "stream",
     "text": [
      "Proportion of missing values in each attributes:\n",
      "R12    0.01\n",
      "A2     0.00\n",
      "R11    0.00\n",
      "R10    0.00\n",
      "R9     0.00\n",
      "R8     0.00\n",
      "R7     0.00\n",
      "R6     0.00\n",
      "R5     0.00\n",
      "R4     0.00\n",
      "R3     0.00\n",
      "R2     0.00\n",
      "R1     0.00\n",
      "A1     0.00\n",
      "E1     0.00\n",
      "L6     0.00\n",
      "L5     0.00\n",
      "L4     0.00\n",
      "L2     0.00\n",
      "L1     0.00\n",
      "A7     0.00\n",
      "A6     0.00\n",
      "A5     0.00\n",
      "A4     0.00\n",
      "A3     0.00\n",
      "E2     0.00\n",
      "dtype: float64\n",
      "\n",
      "0.0% values are missing in total.\n"
     ]
    }
   ],
   "source": [
    "# % of missing values\n",
    "prop_na_col2 = round((new_prepare_df.isna().sum() / len(new_prepare_df)) * 100, 2).sort_values(ascending=False)\n",
    "prop_na2 = round((new_prepare_df.isna().sum().sum() / new_prepare_df.size) * 100, 2)\n",
    "\n",
    "print(f\"Proportion of missing values in each attributes:\")\n",
    "print(prop_na_col2)\n",
    "print(f\"\\n{prop_na2}% values are missing in total.\")"
   ]
  },
  {
   "cell_type": "code",
   "execution_count": 32,
   "id": "3c413cdb-a566-481a-b076-5f07791e6f4d",
   "metadata": {
    "execution": {
     "iopub.execute_input": "2024-08-12T20:57:42.742936Z",
     "iopub.status.busy": "2024-08-12T20:57:42.742736Z",
     "iopub.status.idle": "2024-08-12T20:57:42.776245Z",
     "shell.execute_reply": "2024-08-12T20:57:42.775466Z",
     "shell.execute_reply.started": "2024-08-12T20:57:42.742917Z"
    },
    "scrolled": true
   },
   "outputs": [
    {
     "name": "stdout",
     "output_type": "stream",
     "text": [
      "Proportion of infinite values in each attribute:\n",
      "R6     0.52\n",
      "R11    0.18\n",
      "R10    0.18\n",
      "R9     0.17\n",
      "A1     0.00\n",
      "A2     0.00\n",
      "R8     0.00\n",
      "R7     0.00\n",
      "R5     0.00\n",
      "R4     0.00\n",
      "R3     0.00\n",
      "R2     0.00\n",
      "R1     0.00\n",
      "E2     0.00\n",
      "E1     0.00\n",
      "L6     0.00\n",
      "L5     0.00\n",
      "L4     0.00\n",
      "L2     0.00\n",
      "L1     0.00\n",
      "A7     0.00\n",
      "A6     0.00\n",
      "A5     0.00\n",
      "A4     0.00\n",
      "A3     0.00\n",
      "R12    0.00\n",
      "dtype: float64\n",
      "\n",
      "0.04% values are infinite in total.\n"
     ]
    }
   ],
   "source": [
    "# % of infinite values\n",
    "\n",
    "prop_inf_col = round((((new_prepare_df == np.inf) | (new_prepare_df == -np.inf)).sum() / len(new_prepare_df)) * 100, 2).sort_values(ascending=False)\n",
    "prop_inf = round((((new_prepare_df == np.inf) | (new_prepare_df == -np.inf)).sum().sum() / new_prepare_df.size) * 100, 2)\n",
    "\n",
    "print(f\"Proportion of infinite values in each attribute:\")\n",
    "print(prop_inf_col)\n",
    "print(f\"\\n{prop_inf}% values are infinite in total.\")"
   ]
  },
  {
   "cell_type": "code",
   "execution_count": 33,
   "id": "661bcdd8-0bdd-42af-9c88-7d0b1e634311",
   "metadata": {
    "execution": {
     "iopub.execute_input": "2024-08-12T20:57:42.777364Z",
     "iopub.status.busy": "2024-08-12T20:57:42.777146Z",
     "iopub.status.idle": "2024-08-12T20:57:42.807951Z",
     "shell.execute_reply": "2024-08-12T20:57:42.807060Z",
     "shell.execute_reply.started": "2024-08-12T20:57:42.777345Z"
    }
   },
   "outputs": [],
   "source": [
    "# Replace inf values into na\n",
    "def handle_inf(dataset):\n",
    "    dataset = dataset.replace([np.inf, -np.inf], np.nan)\n",
    "\n",
    "    return dataset\n",
    "\n",
    "new_prepare_df = handle_inf(new_prepare_df.iloc[:, 14:])"
   ]
  },
  {
   "cell_type": "code",
   "execution_count": 34,
   "id": "a462d7a3-ddaf-4097-a5c5-d91d70fd10e1",
   "metadata": {
    "execution": {
     "iopub.execute_input": "2024-08-12T20:57:42.809119Z",
     "iopub.status.busy": "2024-08-12T20:57:42.808825Z",
     "iopub.status.idle": "2024-08-12T20:57:42.859559Z",
     "shell.execute_reply": "2024-08-12T20:57:42.858614Z",
     "shell.execute_reply.started": "2024-08-12T20:57:42.809099Z"
    }
   },
   "outputs": [],
   "source": [
    "def data_scale_impute(dataset):\n",
    "    # Feature scaling\n",
    "    scaler = RobustScaler()\n",
    "    scaled_data = scaler.fit_transform(dataset)\n",
    "\n",
    "    # Imputation\n",
    "    imputer = SimpleImputer(strategy=\"mean\")\n",
    "    imputed_data = imputer.fit_transform(scaled_data)\n",
    "\n",
    "    return imputed_data\n",
    "\n",
    "imputed_data = data_scale_impute(new_prepare_df)"
   ]
  },
  {
   "cell_type": "code",
   "execution_count": 35,
   "id": "6eb6ca03-8101-490c-8d85-72d385b657f3",
   "metadata": {
    "execution": {
     "iopub.execute_input": "2024-08-12T20:57:42.860784Z",
     "iopub.status.busy": "2024-08-12T20:57:42.860586Z",
     "iopub.status.idle": "2024-08-12T20:57:42.887892Z",
     "shell.execute_reply": "2024-08-12T20:57:42.886974Z",
     "shell.execute_reply.started": "2024-08-12T20:57:42.860766Z"
    }
   },
   "outputs": [],
   "source": [
    "from sklearn.pipeline import Pipeline\n",
    "\n",
    "pipeline = Pipeline([\n",
    "    (\"imputer\", SimpleImputer(strategy=\"mean\")),\n",
    "    (\"scaler\", RobustScaler())\n",
    "])"
   ]
  },
  {
   "cell_type": "code",
   "execution_count": 36,
   "id": "3d578945-f167-45ce-af1d-4b0ec831c6f3",
   "metadata": {
    "execution": {
     "iopub.execute_input": "2024-08-12T20:57:42.889114Z",
     "iopub.status.busy": "2024-08-12T20:57:42.888914Z",
     "iopub.status.idle": "2024-08-12T20:57:42.917003Z",
     "shell.execute_reply": "2024-08-12T20:57:42.916101Z",
     "shell.execute_reply.started": "2024-08-12T20:57:42.889095Z"
    }
   },
   "outputs": [],
   "source": [
    "imputed_data_df = pd.DataFrame(imputed_data, columns=new_prepare_df.columns, index=new_prepare_df.index)\n",
    "imputed_data_df = pd.concat([imputed_data_df, train_y], axis=1)"
   ]
  },
  {
   "cell_type": "code",
   "execution_count": 37,
   "id": "98b4be4c-1dc8-4a80-ad07-6623dad484de",
   "metadata": {
    "execution": {
     "iopub.execute_input": "2024-08-12T20:57:42.918029Z",
     "iopub.status.busy": "2024-08-12T20:57:42.917836Z",
     "iopub.status.idle": "2024-08-12T20:57:42.947443Z",
     "shell.execute_reply": "2024-08-12T20:57:42.946747Z",
     "shell.execute_reply.started": "2024-08-12T20:57:42.918010Z"
    }
   },
   "outputs": [],
   "source": [
    "# Data imbalance\n",
    "\n",
    "# Function to calculate imbalance ratios\n",
    "def imbalance_ratio(dataset, label):\n",
    "    \n",
    "    # Initialize\n",
    "    labelPaths = dataset[label]                     # label paths from dataset\n",
    "    countDict = labelPaths.value_counts().to_dict() # number of samples in dataset labelled with path\n",
    "    maxCount = max(countDict.values())              # max number of label path in countDict\n",
    "    IRLbP = {}                                      # empty dict\n",
    "\n",
    "    # For loop to calculate imbalance ratio per label\n",
    "    for path in labelPaths:                         \n",
    "        pathCount = countDict[path]\n",
    "        IRLbP[path] = round(maxCount/pathCount, 2)\n",
    "    # For loop ends\n",
    "\n",
    "    # hierarchical mean imbalance ratio\n",
    "    HMeanIR = round(sum(IRLbP.values()) / len(IRLbP), 2)\n",
    "\n",
    "    return IRLbP, HMeanIR\n",
    "\n",
    "# Function for retrieving minority paths\n",
    "def min_Paths(dataset, label):\n",
    "\n",
    "    # Initialize\n",
    "    IRLbP, HMeanIR = imbalance_ratio(dataset, label) # get imbalce ratio\n",
    "    minPaths = []                                    # empty list\n",
    "\n",
    "    # For loop to get minority classes\n",
    "    for path in dataset[label]:\n",
    "        if IRLbP[path] > HMeanIR:\n",
    "            minPaths.append(path)\n",
    "    # For loop ends\n",
    "\n",
    "    return minPaths\n",
    "\n",
    "# Hierarchical random oversampling (full depth)\n",
    "def HROS_FD(dataset, label, random_state, s=0.1):\n",
    "    \n",
    "    # Initialize\n",
    "    samplesToCreate = int(len(dataset)*s) # number of samples to be created\n",
    "    minPaths = min_Paths(dataset, label)  # get minority paths\n",
    "    new_data = dataset.copy()             # copy original dataset\n",
    "    np.random.seed(random_state)          # for reproducibility\n",
    "\n",
    "    maxIncrease = samplesToCreate / len(minPaths)   # max number of samples created for each path\n",
    "    meanSize = dataset[label].value_counts().mean() # the average number of samples of all paths\n",
    "\n",
    "    # For loop to do oversampling for each minority path\n",
    "    for labelPath in minPaths:\n",
    "        numSamples = (dataset[label] == labelPath).sum()\n",
    "        increased = 0\n",
    "        # While loop begins\n",
    "        while increased < maxIncrease and numSamples < meanSize:\n",
    "            sample_to_duplicate = dataset[dataset[label] == labelPath].sample(n=1, replace=True)\n",
    "            new_data = pd.concat([new_data, sample_to_duplicate], ignore_index=True)\n",
    "            numSamples = numSamples + 1\n",
    "            increased = increased + 1\n",
    "        # While loop ends\n",
    "    # For loop ends\n",
    "\n",
    "    return new_data"
   ]
  },
  {
   "cell_type": "code",
   "execution_count": 38,
   "id": "bb6d40ce-9e54-4082-9843-6a6252546ac9",
   "metadata": {
    "execution": {
     "iopub.execute_input": "2024-08-12T20:57:42.948338Z",
     "iopub.status.busy": "2024-08-12T20:57:42.948138Z",
     "iopub.status.idle": "2024-08-12T20:57:42.976662Z",
     "shell.execute_reply": "2024-08-12T20:57:42.975937Z",
     "shell.execute_reply.started": "2024-08-12T20:57:42.948319Z"
    }
   },
   "outputs": [],
   "source": [
    "# Extract GICS codes and convert them into different levels\n",
    "def extract_gics(y):\n",
    "    \n",
    "    if isinstance(y, pd.DataFrame): # if input is data frame\n",
    "        result = np.array([series.apply(lambda s: [s[:2], s[:4], s[:6], s]).tolist() for series in y.T.values])\n",
    "    elif isinstance(y, pd.Series):  # if input is series\n",
    "        result = np.array(y.apply(lambda s: [s[:2], s[:4], s[:6], s]).tolist())\n",
    "    else:\n",
    "        raise TypeError(\"Input must be a pandas DataFrame or Series\")\n",
    "\n",
    "    return result"
   ]
  },
  {
   "cell_type": "code",
   "execution_count": 39,
   "id": "8340d066-1dba-4538-8aa7-914bb66ce9c7",
   "metadata": {
    "execution": {
     "iopub.execute_input": "2024-08-12T20:57:42.977589Z",
     "iopub.status.busy": "2024-08-12T20:57:42.977401Z",
     "iopub.status.idle": "2024-08-12T20:57:43.006684Z",
     "shell.execute_reply": "2024-08-12T20:57:43.005751Z",
     "shell.execute_reply.started": "2024-08-12T20:57:42.977570Z"
    }
   },
   "outputs": [],
   "source": [
    "# Function to perform feature transformation\n",
    "def feature_transform(X, y, random_state=42, balance=False, s=0.3):\n",
    "    \n",
    "    full_data = pd.concat([X, y], axis=1)                                               # combine X and y\n",
    "    data1 = data_eng(full_data)                                                         # calculation\n",
    "    data2 = handle_inf(data1)                                                           # handle infinite values\n",
    "    data3 = pipeline.fit_transform(data2)                                               # scale and impute\n",
    "\n",
    "    # Return unbalanced data\n",
    "    if balance == False:                                                                \n",
    "        X = data3\n",
    "        y = extract_gics(y)\n",
    "\n",
    "    # Return balanced data\n",
    "    if balance == True:                                                                 \n",
    "        data3_df = pd.DataFrame(data3, columns=data1.columns, index=data1.index)        # convert feature set into data frame\n",
    "        data3_df = pd.concat([data3_df, y], axis=1)                                     # combine X and y\n",
    "        balanced_data = HROS_FD(data3_df, label=\"GICS\", random_state=random_state, s=s) # balance\n",
    "        X = np.array(balanced_data.iloc[:, :-1])                                        # convert to array\n",
    "        y = extract_gics(balanced_data.iloc[:, -1])                                     # convert to array\n",
    "\n",
    "    return X, y"
   ]
  },
  {
   "cell_type": "markdown",
   "id": "075096ad-13f4-4f14-babd-3eb76685e71d",
   "metadata": {},
   "source": [
    "# 4 Shortlist promising models"
   ]
  },
  {
   "cell_type": "code",
   "execution_count": 40,
   "id": "a862333d-eae3-44c6-8048-c1cd82a0e447",
   "metadata": {
    "execution": {
     "iopub.execute_input": "2024-08-12T20:57:43.007659Z",
     "iopub.status.busy": "2024-08-12T20:57:43.007456Z",
     "iopub.status.idle": "2024-08-12T20:57:43.151343Z",
     "shell.execute_reply": "2024-08-12T20:57:43.150321Z",
     "shell.execute_reply.started": "2024-08-12T20:57:43.007640Z"
    }
   },
   "outputs": [],
   "source": [
    "# Transform training set (unbalanced)\n",
    "ub_train_X_full, ub_train_y_full = feature_transform(train_X, train_y)\n",
    "\n",
    "# Random sample 20% data\n",
    "np.random.seed(42)                                                                    # set seed for reproducibility\n",
    "ub_num_samples = int(0.2 * len(ub_train_X_full))                                      # number of samples\n",
    "ub_index = np.random.choice(len(ub_train_X_full), replace=False, size=ub_num_samples) # extract index\n",
    "\n",
    "ub_train_X = ub_train_X_full[ub_index]\n",
    "ub_train_y = ub_train_y_full[ub_index]"
   ]
  },
  {
   "cell_type": "code",
   "execution_count": 41,
   "id": "e8b0e1a5-3f83-40b7-adff-fa952672ced9",
   "metadata": {
    "execution": {
     "iopub.execute_input": "2024-08-12T20:57:43.152532Z",
     "iopub.status.busy": "2024-08-12T20:57:43.152315Z",
     "iopub.status.idle": "2024-08-12T20:59:05.973409Z",
     "shell.execute_reply": "2024-08-12T20:59:05.972485Z",
     "shell.execute_reply.started": "2024-08-12T20:57:43.152512Z"
    },
    "scrolled": true
   },
   "outputs": [],
   "source": [
    "# Generate balanced training set\n",
    "balanced_data = HROS_FD(imputed_data_df, label=\"GICS\", random_state=42, s=0.5)\n",
    "\n",
    "# Transform training set (balanced)\n",
    "b_train_X_full, b_train_y_full = feature_transform(train_X, train_y, balance=True)\n",
    "\n",
    "# Random sample 20% data\n",
    "np.random.seed(42)                                                                 # set seed for reproducibility\n",
    "b_num_samples = int(0.2 * len(b_train_X_full))                                     # number of samples\n",
    "b_index = np.random.choice(len(b_train_X_full), replace=False, size=b_num_samples) # extract index\n",
    "\n",
    "b_train_X = b_train_X_full[b_index]\n",
    "b_train_y = b_train_y_full[b_index]"
   ]
  },
  {
   "cell_type": "code",
   "execution_count": 42,
   "id": "8bde9f16-9b21-40a4-a330-d27434df8bf9",
   "metadata": {
    "execution": {
     "iopub.execute_input": "2024-08-12T20:59:05.974949Z",
     "iopub.status.busy": "2024-08-12T20:59:05.974722Z",
     "iopub.status.idle": "2024-08-12T20:59:06.010889Z",
     "shell.execute_reply": "2024-08-12T20:59:06.010198Z",
     "shell.execute_reply.started": "2024-08-12T20:59:05.974928Z"
    }
   },
   "outputs": [],
   "source": [
    "# K-fold cross-validation\n",
    "def cv_f1(x, y, random_state, n_splits, shuffle, model):\n",
    "\n",
    "    # Separate training set into k folds\n",
    "    kfold = KFold(random_state=random_state, n_splits=n_splits, shuffle=shuffle)\n",
    "\n",
    "    # Create an empty list to store values\n",
    "    h_f1 = []\n",
    "\n",
    "    # For loop to evaluate performance of each fold\n",
    "    for train_index, valid_index in kfold.split(x, y):\n",
    "\n",
    "        X_train, X_valid = x[train_index], x[valid_index]\n",
    "        y_train, y_valid = y[train_index], y[valid_index]\n",
    "\n",
    "        model.fit(X_train, y_train)           # train the model\n",
    "        y_pred = model.predict(X_valid)       # dredict on the test data\n",
    "        score = round(f1(y_valid, y_pred), 4) # evaluate the model\n",
    "        h_f1.append(score)                    # append scores\n",
    "    # For loop ends\n",
    "\n",
    "    # Convert scores to a numpy array\n",
    "    h_f1 = np.array(h_f1)\n",
    "\n",
    "    return h_f1"
   ]
  },
  {
   "cell_type": "code",
   "execution_count": null,
   "id": "75a26f93-ad1d-47d2-ada8-bd1cdcf49e9b",
   "metadata": {
    "execution": {
     "iopub.status.busy": "2024-08-12T20:59:06.300999Z",
     "iopub.status.idle": "2024-08-12T20:59:06.301272Z",
     "shell.execute_reply": "2024-08-12T20:59:06.301154Z",
     "shell.execute_reply.started": "2024-08-12T20:59:06.301142Z"
    },
    "tags": []
   },
   "outputs": [],
   "source": [
    "# Train models using standard parameters\n",
    "\n",
    "# Baseline classifiers\n",
    "tree_clf = DecisionTreeClassifier(random_state=42)\n",
    "lgb_clf = LGBMClassifier(random_state=42, n_jobs=-1, force_col_wise=True, verbose=-1)\n",
    "rf_clf = RandomForestClassifier(random_state=42, n_jobs=-1)\n",
    "\n",
    "# Flat models\n",
    "flat_tree = FlatClassifier(local_classifier=tree_clf)\n",
    "flat_lgb = FlatClassifier(local_classifier=lgb_clf)\n",
    "flat_rf = FlatClassifier(local_classifier=rf_clf)\n",
    "\n",
    "# LCN models\n",
    "lcpn_tree = LocalClassifierPerNode(local_classifier=tree_clf)\n",
    "lcpn_lgb = LocalClassifierPerNode(local_classifier=lgb_clf, n_jobs=-1)\n",
    "lcpn_rf = LocalClassifierPerNode(local_classifier=rf_clf, n_jobs=-1)"
   ]
  },
  {
   "cell_type": "code",
   "execution_count": null,
   "id": "f007dfa6",
   "metadata": {
    "execution": {
     "iopub.status.busy": "2024-08-12T20:59:06.301914Z",
     "iopub.status.idle": "2024-08-12T20:59:06.302185Z",
     "shell.execute_reply": "2024-08-12T20:59:06.302068Z",
     "shell.execute_reply.started": "2024-08-12T20:59:06.302057Z"
    }
   },
   "outputs": [],
   "source": [
    "# LCN-LightGBM-Unbalanced\n",
    "start_time = time.time()\n",
    "\n",
    "h_lgb_f1_ub = cv_f1(x=ub_train_X, y=ub_train_y, random_state=42, n_splits=5, model=lcpn_lgb, shuffle=True)\n",
    "\n",
    "end_time = time.time()\n",
    "time_used = round(end_time - start_time, 4)\n",
    "print(f\"Time used: {time_used} seconds.\")\n",
    "\n",
    "print(\"h_lgb_f1_ub: \", h_lgb_f1_ub.mean(), h_lgb_f1_ub.std())"
   ]
  },
  {
   "cell_type": "code",
   "execution_count": null,
   "id": "352c54c6",
   "metadata": {
    "execution": {
     "iopub.status.busy": "2024-08-12T20:59:06.302948Z",
     "iopub.status.idle": "2024-08-12T20:59:06.303228Z",
     "shell.execute_reply": "2024-08-12T20:59:06.303081Z",
     "shell.execute_reply.started": "2024-08-12T20:59:06.303069Z"
    }
   },
   "outputs": [],
   "source": [
    "# LCN-LightGBM-Balanced\n",
    "start_time = time.time()\n",
    "\n",
    "h_lgb_f1_b = cv_f1(x=b_train_X, y=b_train_y, random_state=42, n_splits=5, model=lcpn_lgb, shuffle=True)\n",
    "\n",
    "end_time = time.time()\n",
    "time_used = round(end_time - start_time, 4)\n",
    "print(f\"Time used: {time_used} seconds.\")\n",
    "\n",
    "print(\"h_lgb_f1_b: \", h_lgb_f1_b.mean(), h_lgb_f1_b.std())"
   ]
  },
  {
   "cell_type": "code",
   "execution_count": null,
   "id": "46939e15",
   "metadata": {
    "execution": {
     "iopub.status.busy": "2024-08-12T20:59:06.303920Z",
     "iopub.status.idle": "2024-08-12T20:59:06.304169Z",
     "shell.execute_reply": "2024-08-12T20:59:06.304050Z",
     "shell.execute_reply.started": "2024-08-12T20:59:06.304039Z"
    }
   },
   "outputs": [],
   "source": [
    "# Flat-LightGBM-Unbalanced\n",
    "start_time = time.time()\n",
    "\n",
    "flat_lgb_f1_ub = cv_f1(x=ub_train_X, y=ub_train_y, random_state=42, n_splits=5, model=flat_lgb, shuffle=True)\n",
    "\n",
    "end_time = time.time()\n",
    "time_used = round(end_time - start_time, 4)\n",
    "print(f\"Time used: {time_used} seconds.\")\n",
    "\n",
    "print(\"flat_lgb_f1_ub: \", flat_lgb_f1_ub.mean(), flat_lgb_f1_ub.std())"
   ]
  },
  {
   "cell_type": "code",
   "execution_count": null,
   "id": "fbefd552",
   "metadata": {
    "execution": {
     "iopub.status.busy": "2024-08-12T20:59:06.305102Z",
     "iopub.status.idle": "2024-08-12T20:59:06.305352Z",
     "shell.execute_reply": "2024-08-12T20:59:06.305233Z",
     "shell.execute_reply.started": "2024-08-12T20:59:06.305221Z"
    }
   },
   "outputs": [],
   "source": [
    "# Flat-LightGBM-Balanced\n",
    "start_time = time.time()\n",
    "\n",
    "flat_lgb_f1_b = cv_f1(x=b_train_X, y=b_train_y, random_state=42, n_splits=5, model=flat_lgb, shuffle=True)\n",
    "\n",
    "end_time = time.time()\n",
    "time_used = round(end_time - start_time, 4)\n",
    "print(f\"Time used: {time_used} seconds.\")\n",
    "\n",
    "print(\"flat_lgb_f1_b: \", flat_lgb_f1_b.mean(), flat_lgb_f1_b.std())"
   ]
  },
  {
   "cell_type": "code",
   "execution_count": null,
   "id": "4d6ab19d-fef0-4a17-8787-1d3117f11613",
   "metadata": {
    "execution": {
     "iopub.status.busy": "2024-08-12T20:59:06.306127Z",
     "iopub.status.idle": "2024-08-12T20:59:06.306377Z",
     "shell.execute_reply": "2024-08-12T20:59:06.306258Z",
     "shell.execute_reply.started": "2024-08-12T20:59:06.306246Z"
    },
    "tags": []
   },
   "outputs": [],
   "source": [
    "# LCN-Random Forest-Unbalanced\n",
    "start_time = time.time()\n",
    "\n",
    "h_rf_f1_ub = cv_f1(x=ub_train_X, y=ub_train_y, random_state=42, n_splits=5, model=lcpn_rf, shuffle=True)\n",
    "\n",
    "end_time = time.time()\n",
    "time_used = round(end_time - start_time, 4)\n",
    "print(f\"Time used: {time_used} seconds.\")\n",
    "\n",
    "print(\"h_rf_f1_ub: \", h_rf_f1_ub.mean(), h_rf_f1_ub.std())"
   ]
  },
  {
   "cell_type": "code",
   "execution_count": null,
   "id": "9c32cab9",
   "metadata": {
    "execution": {
     "iopub.status.busy": "2024-08-12T20:59:06.307246Z",
     "iopub.status.idle": "2024-08-12T20:59:06.307526Z",
     "shell.execute_reply": "2024-08-12T20:59:06.307396Z",
     "shell.execute_reply.started": "2024-08-12T20:59:06.307371Z"
    }
   },
   "outputs": [],
   "source": [
    "# LCN-Random Forest-Balanced\n",
    "start_time = time.time()\n",
    "\n",
    "h_rf_f1_b = cv_f1(x=b_train_X, y=b_train_y, random_state=42, n_splits=5, model=lcpn_rf, shuffle=True)\n",
    "\n",
    "end_time = time.time()\n",
    "time_used = round(end_time - start_time, 4)\n",
    "print(f\"Time used: {time_used} seconds.\")\n",
    "\n",
    "print(\"h_rf_f1_b: \", h_rf_f1_b.mean(), h_rf_f1_b.std())"
   ]
  },
  {
   "cell_type": "code",
   "execution_count": null,
   "id": "0f75bdd3-e855-430d-96fa-e3d8aad5bdea",
   "metadata": {
    "execution": {
     "iopub.status.busy": "2024-08-12T20:59:06.308198Z",
     "iopub.status.idle": "2024-08-12T20:59:06.308458Z",
     "shell.execute_reply": "2024-08-12T20:59:06.308339Z",
     "shell.execute_reply.started": "2024-08-12T20:59:06.308327Z"
    }
   },
   "outputs": [],
   "source": [
    "# Flat-Random Forest-Unbalanced\n",
    "start_time = time.time()\n",
    "\n",
    "flat_rf_f1_ub = cv_f1(x=ub_train_X, y=ub_train_y, random_state=42, n_splits=5, model=flat_rf, shuffle=True)\n",
    "\n",
    "end_time = time.time()\n",
    "time_used = round(end_time - start_time, 4)\n",
    "print(f\"Time used: {time_used} seconds.\")\n",
    "\n",
    "print(\"flat_rf_f1_ub: \", flat_rf_f1_ub.mean(), flat_rf_f1_ub.std())"
   ]
  },
  {
   "cell_type": "code",
   "execution_count": null,
   "id": "66a422a6",
   "metadata": {
    "execution": {
     "iopub.status.busy": "2024-08-12T20:59:06.309122Z",
     "iopub.status.idle": "2024-08-12T20:59:06.309385Z",
     "shell.execute_reply": "2024-08-12T20:59:06.309265Z",
     "shell.execute_reply.started": "2024-08-12T20:59:06.309253Z"
    }
   },
   "outputs": [],
   "source": [
    "# Flat-Random Forest-Balanced\n",
    "start_time = time.time()\n",
    "\n",
    "flat_rf_f1_b = cv_f1(x=b_train_X, y=b_train_y, random_state=42, n_splits=5, model=flat_rf, shuffle=True)\n",
    "\n",
    "end_time = time.time()\n",
    "time_used = round(end_time - start_time, 4)\n",
    "print(f\"Time used: {time_used} seconds.\")\n",
    "\n",
    "print(\"flat_rf_f1_b: \", flat_rf_f1_b.mean(), flat_rf_f1_b.std())"
   ]
  },
  {
   "cell_type": "code",
   "execution_count": null,
   "id": "9a00a8fd",
   "metadata": {
    "execution": {
     "iopub.status.busy": "2024-08-12T20:59:06.310052Z",
     "iopub.status.idle": "2024-08-12T20:59:06.310319Z",
     "shell.execute_reply": "2024-08-12T20:59:06.310198Z",
     "shell.execute_reply.started": "2024-08-12T20:59:06.310186Z"
    }
   },
   "outputs": [],
   "source": [
    "# Flat-Decision Tree-Unbalanced\n",
    "start_time = time.time()\n",
    "\n",
    "flat_tree_f1_ub = cv_f1(x=ub_train_X, y=ub_train_y, random_state=42, n_splits=5, model=flat_tree, shuffle=True)\n",
    "\n",
    "end_time = time.time()\n",
    "time_used = round(end_time - start_time, 4)\n",
    "print(f\"Time used: {time_used} seconds.\")\n",
    "\n",
    "print(\"flat_tree_f1_ub: \", flat_tree_f1_ub.mean(), flat_tree_f1_ub.std())"
   ]
  },
  {
   "cell_type": "code",
   "execution_count": null,
   "id": "73907f9f-d904-4e6b-934f-8d0912b5aac3",
   "metadata": {
    "execution": {
     "iopub.status.busy": "2024-08-12T20:59:06.310999Z",
     "iopub.status.idle": "2024-08-12T20:59:06.311260Z",
     "shell.execute_reply": "2024-08-12T20:59:06.311138Z",
     "shell.execute_reply.started": "2024-08-12T20:59:06.311126Z"
    }
   },
   "outputs": [],
   "source": [
    "# Flat-Decision Tree-Balanced\n",
    "start_time = time.time()\n",
    "\n",
    "flat_tree_f1_b = cv_f1(x=b_train_X, y=b_train_y, random_state=42, n_splits=5, model=flat_tree, shuffle=True)\n",
    "\n",
    "end_time = time.time()\n",
    "time_used = round(end_time - start_time, 4)\n",
    "print(f\"Time used: {time_used} seconds.\")\n",
    "\n",
    "print(\"flat_tree_f1_b: \", flat_tree_f1_b.mean(), flat_tree_f1_b.std())"
   ]
  },
  {
   "cell_type": "code",
   "execution_count": null,
   "id": "70a8fff5",
   "metadata": {
    "execution": {
     "iopub.status.busy": "2024-08-12T20:59:06.311921Z",
     "iopub.status.idle": "2024-08-12T20:59:06.312177Z",
     "shell.execute_reply": "2024-08-12T20:59:06.312055Z",
     "shell.execute_reply.started": "2024-08-12T20:59:06.312043Z"
    },
    "tags": []
   },
   "outputs": [],
   "source": [
    "# LCN-Decision Tree-Unbalanced\n",
    "start_time = time.time()\n",
    "\n",
    "h_tree_f1_ub = cv_f1(x=ub_train_X, y=ub_train_y, random_state=42, n_splits=5, model=lcpn_tree, shuffle=True)\n",
    "\n",
    "end_time = time.time()\n",
    "time_used = round(end_time - start_time, 4)\n",
    "print(f\"Time used: {time_used} seconds.\")\n",
    "\n",
    "print(\"h_tree_f1_ub: \", h_tree_f1_ub.mean(), h_tree_f1_ub.std())"
   ]
  },
  {
   "cell_type": "code",
   "execution_count": null,
   "id": "cf996c1c-a9ad-48cc-b4f0-53354c1b3936",
   "metadata": {
    "execution": {
     "iopub.status.busy": "2024-08-12T20:59:06.312778Z",
     "iopub.status.idle": "2024-08-12T20:59:06.313034Z",
     "shell.execute_reply": "2024-08-12T20:59:06.312912Z",
     "shell.execute_reply.started": "2024-08-12T20:59:06.312900Z"
    }
   },
   "outputs": [],
   "source": [
    "# LCN-Decision Tree-Balanced\n",
    "start_time = time.time()\n",
    "\n",
    "h_tree_f1_b = cv_f1(x=b_train_X, y=b_train_y, random_state=42, n_splits=5, model=lcpn_tree, shuffle=True)\n",
    "\n",
    "end_time = time.time()\n",
    "time_used = round(end_time - start_time, 4)\n",
    "print(f\"Time used: {time_used} seconds.\")\n",
    "\n",
    "print(\"h_tree_f1_b: \", h_tree_f1_b.mean(), h_tree_f1_b.std())"
   ]
  },
  {
   "cell_type": "code",
   "execution_count": null,
   "id": "562c5dd2-1e91-469d-9b78-3323fd1b3496",
   "metadata": {
    "execution": {
     "iopub.status.busy": "2024-08-12T20:59:06.313873Z",
     "iopub.status.idle": "2024-08-12T20:59:06.314130Z",
     "shell.execute_reply": "2024-08-12T20:59:06.314007Z",
     "shell.execute_reply.started": "2024-08-12T20:59:06.313995Z"
    }
   },
   "outputs": [],
   "source": [
    "# Print results\n",
    "print(\"flat_ub\")\n",
    "print(\"flat_tree_f1_ub: \", round(flat_tree_f1_ub.mean(), 4), round(flat_tree_f1_ub.std(), 4))\n",
    "print(\"flat_lgb_f1_ub: \", round(flat_lgb_f1_ub.mean(), 4), round(flat_lgb_f1_ub.std(), 4))\n",
    "print(\"flat_rf_f1_ub: \", round(flat_rf_f1_ub.mean(), 4), round(flat_rf_f1_ub.std(), 4))\n",
    "print(\"h_ub\")\n",
    "print(\"h_tree_f1_ub: \", round(h_tree_f1_ub.mean(), 4), round(h_tree_f1_ub.std(), 4))\n",
    "print(\"h_lgb_f1_ub: \", round(h_lgb_f1_ub.mean(), 4), round(h_lgb_f1_ub.std(), 4))\n",
    "print(\"h_rf_f1_ub: \", round(h_rf_f1_ub.mean(), 4), round(h_rf_f1_ub.std(), 4))\n",
    "print(\"flat_b\")\n",
    "print(\"flat_tree_f1_b: \", round(flat_tree_f1_b.mean(), 4), round(flat_tree_f1_b.std(), 4))\n",
    "print(\"flat_lgb_f1_b: \", round(flat_lgb_f1_b.mean(), 4), round(flat_lgb_f1_b.std(), 4))\n",
    "print(\"flat_rf_f1_b: \", round(flat_rf_f1_b.mean(), 4), round(flat_rf_f1_b.std(), 4))\n",
    "print(\"h_b\")\n",
    "print(\"h_tree_f1_b: \", round(h_tree_f1_b.mean(), 4), round(h_tree_f1_b.std(),4))\n",
    "print(\"h_lgb_f1_b: \", round(h_lgb_f1_b.mean(), 4), round(h_lgb_f1_b.std(), 4))\n",
    "print(\"h_rf_f1_b: \", round(h_rf_f1_b.mean(), 4), round(h_rf_f1_b.std(), 4))"
   ]
  },
  {
   "cell_type": "markdown",
   "id": "8f52d55f-c92e-4215-aaa0-044702d27d0e",
   "metadata": {},
   "source": [
    "# 5 Fine-tune the system"
   ]
  },
  {
   "cell_type": "code",
   "execution_count": 44,
   "id": "7ac6f44d-3319-4cbf-837d-dca6e1e106c9",
   "metadata": {
    "execution": {
     "iopub.execute_input": "2024-08-12T20:59:58.646308Z",
     "iopub.status.busy": "2024-08-12T20:59:58.645939Z",
     "iopub.status.idle": "2024-08-12T20:59:58.766698Z",
     "shell.execute_reply": "2024-08-12T20:59:58.765528Z",
     "shell.execute_reply.started": "2024-08-12T20:59:58.646277Z"
    }
   },
   "outputs": [],
   "source": [
    "# Transform test set\n",
    "t_test_X, t_test_y = feature_transform(test_X, test_y)"
   ]
  },
  {
   "cell_type": "markdown",
   "id": "e2b1340c-5fff-4e95-ba9b-cd7512818682",
   "metadata": {
    "execution": {
     "iopub.execute_input": "2024-08-08T15:47:41.356170Z",
     "iopub.status.busy": "2024-08-08T15:47:41.355775Z",
     "iopub.status.idle": "2024-08-08T15:47:41.391009Z",
     "shell.execute_reply": "2024-08-08T15:47:41.389678Z",
     "shell.execute_reply.started": "2024-08-08T15:47:41.356140Z"
    }
   },
   "source": [
    "### Confusion Matrix"
   ]
  },
  {
   "cell_type": "code",
   "execution_count": 45,
   "id": "ecec9fbc-8679-4b01-a0eb-9ced713f22e8",
   "metadata": {
    "execution": {
     "iopub.execute_input": "2024-08-12T20:59:59.370616Z",
     "iopub.status.busy": "2024-08-12T20:59:59.370132Z",
     "iopub.status.idle": "2024-08-12T20:59:59.443397Z",
     "shell.execute_reply": "2024-08-12T20:59:59.442067Z",
     "shell.execute_reply.started": "2024-08-12T20:59:59.370583Z"
    }
   },
   "outputs": [],
   "source": [
    "# Add root to the predictions\n",
    "def add_root(array):\n",
    "    # Create a new column with 'root'\n",
    "    root = np.full((array.shape[0], 1), 'root')\n",
    "\n",
    "    # Concatenate the new column to the original array\n",
    "    new_array = np.hstack((root, array))\n",
    "\n",
    "    return new_array\n",
    "\n",
    "# Clean unnecessary separators\n",
    "def clean_edges(array):\n",
    "    \n",
    "    def extract_last_part(s):\n",
    "        return s.split(\"::\")[-1] if \"::\" in s else s\n",
    "    \n",
    "    for row in array:\n",
    "        row[0] = extract_last_part(row[0])\n",
    "        row[1] = extract_last_part(row[1])\n",
    "        \n",
    "    return array\n",
    "\n",
    "# Extract hierarchy from LCN model\n",
    "def extract_hierarchy(model):\n",
    "    \n",
    "    hierarchy = model.hierarchy_\n",
    "    edges = np.array(hierarchy.edges)\n",
    "    cleaned_edges = clean_edges(edges)\n",
    "    \n",
    "    graph = nx.DiGraph()\n",
    "    graph.add_edges_from(cleaned_edges)\n",
    "\n",
    "    return graph\n",
    "\n",
    "# Calcualte evalution metrics\n",
    "def eva_metrics(confusion_m, metrics):\n",
    "    \n",
    "    TP = confusion_m[0]\n",
    "    TN = confusion_m[1]\n",
    "    FP = confusion_m[2]\n",
    "    FN = confusion_m[3]\n",
    "\n",
    "    tpfp = np.float64(TP + FP)\n",
    "    tpfn = np.float64(TP + FN)\n",
    "    tnfp = np.float64(TN + FP)\n",
    "    tnfn = np.float64(TN + FN)\n",
    "\n",
    "    F1 = 2 * TP / (2 * TP + FP + FN)\n",
    "    PPV = TP / (TP + FP)\n",
    "    REC = TP / (TP + FN)\n",
    "    ACC = (TP + TN) / (TP + TN + FP + FN)\n",
    "    MCC = ((TP * TN) - (FP * FN)) / np.sqrt(float(tpfp*tpfn*tnfp*tnfn))\n",
    "\n",
    "    if metrics == \"f1\":\n",
    "        return F1\n",
    "    elif metrics == \"ppv\":\n",
    "        return PPV\n",
    "    elif metrics == \"rec\":\n",
    "        return REC\n",
    "    elif metrics == \"acc\":\n",
    "        return ACC\n",
    "    elif metrics == \"mcc\":\n",
    "        return mcc\n",
    "    else: \n",
    "        return F1, PPV, REC, ACC, MCC\n",
    "\n",
    "# Function to return confusion matrix\n",
    "def h_confusion_matrix(model, metrics, depth=4):\n",
    "    \n",
    "    pred_y = model.predict(t_test_X)\n",
    "    full_pred_y = add_root(pred_y)\n",
    "\n",
    "    graph = extract_hierarchy(model)\n",
    "    \n",
    "    evalLabel_data = {}\n",
    "    for i in range(len(test_y)):\n",
    "        evalLabel_data[i] = {\"true\": [t_test_y[:, depth-1][i]],\n",
    "                             \"pred\": [full_pred_y[i].tolist()]}\n",
    "\n",
    "    h_confusion = {}\n",
    "    h_confusion_total = []\n",
    "    for key in evalLabel_data:\n",
    "        try:\n",
    "            h_confusion[key] = determineHierarchicalConfusionMatrix(graph, evalLabel_data[key][\"true\"], evalLabel_data[key][\"pred\"])\n",
    "            h_confusion_total.append(h_confusion[key])\n",
    "        except KeyError as e:\n",
    "            print(f\"Skipping key {key} due to missing data: {e}\")\n",
    "            print(evalLabel_data[key])\n",
    "        except Exception as e:\n",
    "            print(f\"Skipping key {key} due to an error: {e}\")\n",
    "            print(evalLabel_data[key])\n",
    "    h_confusion_total = np.sum(np.asarray(h_confusion_total),axis=0)\n",
    "\n",
    "    if metrics == \"all\":\n",
    "        F1, PPV, REC, ACC, MCC = eva_metrics(h_confusion_total, \"all\")\n",
    "\n",
    "        print(\"{:<10} {:<10} {:<10} {:<10} {:<10} {:<10} {:<10} {:<10} {:<10}\".format(\n",
    "        \"F1\", \"PPV\", \"REC\", \"ACC\", \"MCC\", \"TP\", \"TN\", \"FP\", \"FN\"))\n",
    "        print(\"{:<10.4f} {:<10.4f} {:<10.4f} {:<10.4f} {:<10.4f} {:<10} {:<10} {:<10} {:<10}\".format(\n",
    "        F1, PPV, REC, ACC, MCC, h_confusion_total[0], h_confusion_total[1], h_confusion_total[2], h_confusion_total[3]))\n",
    "    else:\n",
    "        return eva_metrics(h_confusion_total, metrics)"
   ]
  },
  {
   "cell_type": "markdown",
   "id": "4d13b068-1961-4f1d-990d-e1c6d4ba5d35",
   "metadata": {},
   "source": [
    "### LCN-LightGBM"
   ]
  },
  {
   "cell_type": "code",
   "execution_count": 46,
   "id": "813ef3a2-04e7-4c5b-8cfe-ae86ab48d4ff",
   "metadata": {
    "execution": {
     "iopub.execute_input": "2024-08-12T21:00:03.837648Z",
     "iopub.status.busy": "2024-08-12T21:00:03.837163Z",
     "iopub.status.idle": "2024-08-12T21:00:03.905383Z",
     "shell.execute_reply": "2024-08-12T21:00:03.904077Z",
     "shell.execute_reply.started": "2024-08-12T21:00:03.837607Z"
    }
   },
   "outputs": [],
   "source": [
    "# Automatic hyperparameter tuning-LCN-LightGBM\n",
    "def objective_lgb(trial):\n",
    "\n",
    "    param = {\n",
    "        \"lambda_l1\" : trial.suggest_float(\"lambda_l1\", 0.01, 10.0, log=True),\n",
    "        \"lambda_l2\" : trial.suggest_float(\"lambda_l2\", 0.01, 10.0, log=True),\n",
    "        \"num_leaves\" : trial.suggest_int(\"num_leaves\", 2, 256),\n",
    "        \"feature_fraction\" : trial.suggest_float(\"feature_fraction\", 0.4, 1.0),\n",
    "        \"bagging_fraction\" : trial.suggest_float(\"bagging_fraction\", 0.4, 1.0),\n",
    "        \"bagging_freq\" : trial.suggest_int(\"bagging_freq\", 1, 7),\n",
    "        \"min_child_samples\" : trial.suggest_int(\"min_child_samples\", 5, 100),\n",
    "        \"min_data_in_leaf\" : trial.suggest_int(\"min_data_in_leaf\", 5, 100)\n",
    "    }\n",
    "    \n",
    "    lgb = LGBMClassifier(**param, random_state=24, n_jobs=-1, force_col_wise=True, verbose=-1)\n",
    "\n",
    "    lcpn_lgb = LocalClassifierPerNode(local_classifier=lgb, n_jobs=-1)\n",
    "\n",
    "    score = cv_f1(x=b_train_X, y=b_train_y, random_state=24, n_splits=5, model=lcpn_lgb, shuffle=True).mean()\n",
    "\n",
    "    return score"
   ]
  },
  {
   "cell_type": "code",
   "execution_count": null,
   "id": "4f7b7fc9-bbba-468a-a859-ee42a74e9c95",
   "metadata": {
    "execution": {
     "iopub.status.busy": "2024-08-12T20:59:06.318416Z",
     "iopub.status.idle": "2024-08-12T20:59:06.318663Z",
     "shell.execute_reply": "2024-08-12T20:59:06.318544Z",
     "shell.execute_reply.started": "2024-08-12T20:59:06.318532Z"
    },
    "scrolled": true
   },
   "outputs": [],
   "source": [
    "# Create a study\n",
    "study_lgb = optuna.create_study(direction=\"maximize\", \n",
    "                                sampler=optuna.samplers.TPESampler(42), \n",
    "                                pruner=optuna.pruners.MedianPruner(n_startup_trials=5, \n",
    "                                                                   n_warmup_steps=30,\n",
    "                                                                   interval_steps=10, \n",
    "                                                                   n_min_trials=50))\n",
    "# Perform tuning\n",
    "study_lgb.optimize(objective_lgb, n_trials=100)"
   ]
  },
  {
   "cell_type": "code",
   "execution_count": 47,
   "id": "04d87dc5-0b7c-4010-86a8-5fd5ab9b1e3f",
   "metadata": {
    "execution": {
     "iopub.execute_input": "2024-08-12T21:00:09.660965Z",
     "iopub.status.busy": "2024-08-12T21:00:09.660415Z",
     "iopub.status.idle": "2024-08-12T21:00:49.592247Z",
     "shell.execute_reply": "2024-08-12T21:00:49.591394Z",
     "shell.execute_reply.started": "2024-08-12T21:00:09.660919Z"
    }
   },
   "outputs": [
    {
     "name": "stdout",
     "output_type": "stream",
     "text": [
      "The final F1 value for lgb is:  0.7419\n"
     ]
    }
   ],
   "source": [
    "#best_param_lgb = study_lgb.best_params\n",
    "#print(best_param_lgb)\n",
    "\n",
    "best_lgb = LGBMClassifier(**{'lambda_l1': 0.029591135484459515, \n",
    "                             'lambda_l2': 0.018957124806160918, \n",
    "                             'num_leaves': 124, \n",
    "                             'feature_fraction': 0.7614565681709736, \n",
    "                             'bagging_fraction': 0.9473661138179675, \n",
    "                             'bagging_freq': 4, \n",
    "                             'min_child_samples': 14, \n",
    "                             'min_data_in_leaf': 11},\n",
    "                         random_state=24, \n",
    "                         n_jobs=-1, \n",
    "                         force_col_wise=True, \n",
    "                         verbose=-1)\n",
    "\n",
    "best_lcpn_lgb = LocalClassifierPerNode(local_classifier=best_lgb, n_jobs=-1)\n",
    "\n",
    "best_lcpn_lgb.fit(b_train_X_full, b_train_y_full)\n",
    "best_lcpn_lgb_pred = best_lcpn_lgb.predict(t_test_X)\n",
    "best_lcpn_lgb_f1 = f1(t_test_y, best_lcpn_lgb_pred)\n",
    "\n",
    "print(\"The final F1 value for lgb is: \", round(best_lcpn_lgb_f1, 4))"
   ]
  },
  {
   "cell_type": "markdown",
   "id": "83e10610-f473-4945-ae47-78c22ccf6a41",
   "metadata": {},
   "source": [
    "{'lambda_l1': 0.029591135484459515, 'lambda_l2': 0.018957124806160918, 'num_leaves': 124, 'feature_fraction': 0.7614565681709736, 'bagging_fraction': 0.9473661138179675, 'bagging_freq': 4, 'min_child_samples': 14, 'min_data_in_leaf': 11}"
   ]
  },
  {
   "cell_type": "code",
   "execution_count": null,
   "id": "0ab3f8bc-9481-40c2-bbf8-93426f2f63e7",
   "metadata": {
    "execution": {
     "iopub.status.busy": "2024-08-12T20:59:06.320386Z",
     "iopub.status.idle": "2024-08-12T20:59:06.320631Z",
     "shell.execute_reply": "2024-08-12T20:59:06.320514Z",
     "shell.execute_reply.started": "2024-08-12T20:59:06.320502Z"
    }
   },
   "outputs": [],
   "source": [
    "# 5-fold cross validation\n",
    "cv_f1(x=b_train_X_full, y=b_train_y_full, random_state=42, n_splits=5, model=best_lcpn_lgb, shuffle=True).mean()"
   ]
  },
  {
   "cell_type": "code",
   "execution_count": null,
   "id": "02775d62-fd0e-455d-8a84-ed6093957229",
   "metadata": {
    "execution": {
     "iopub.status.busy": "2024-08-12T20:59:06.321274Z",
     "iopub.status.idle": "2024-08-12T20:59:06.321535Z",
     "shell.execute_reply": "2024-08-12T20:59:06.321417Z",
     "shell.execute_reply.started": "2024-08-12T20:59:06.321405Z"
    },
    "scrolled": true
   },
   "outputs": [],
   "source": [
    "# Hierarchical confusion matrix\n",
    "h_confusion_matrix(best_lcpn_lgb, \"all\")"
   ]
  },
  {
   "cell_type": "markdown",
   "id": "f26670af-fd56-4bdb-ac91-e0731e3c3795",
   "metadata": {},
   "source": [
    "### Flat-Random Forest"
   ]
  },
  {
   "cell_type": "code",
   "execution_count": null,
   "id": "41aebfc1-0f37-4e5d-ad30-11ed718dfd8a",
   "metadata": {
    "execution": {
     "iopub.status.busy": "2024-08-12T20:59:06.322228Z",
     "iopub.status.idle": "2024-08-12T20:59:06.322494Z",
     "shell.execute_reply": "2024-08-12T20:59:06.322375Z",
     "shell.execute_reply.started": "2024-08-12T20:59:06.322363Z"
    }
   },
   "outputs": [],
   "source": [
    "# Automatic hyperparameter tuning-Flat-Random Forest\n",
    "def objective_frf(trial):\n",
    "\n",
    "    param = {\n",
    "        \"n_estimators\": trial.suggest_int(\"n_estimators\", 10, 200, log=True),\n",
    "        \"max_depth\": trial.suggest_int(\"max_depth\", 2, 50),\n",
    "        \"min_samples_split\": trial.suggest_int(\"min_samples_split\", 2, 100),\n",
    "        \"min_samples_leaf\": trial.suggest_int(\"min_samples_leaf\", 1, 100)\n",
    "    }\n",
    "    \n",
    "    rf = RandomForestClassifier(**param, random_state=24, n_jobs=-1)\n",
    "\n",
    "    flat_rf = FlatClassifier(local_classifier=rf)\n",
    "\n",
    "    score = cv_f1(x=b_train_X, y=b_train_y, random_state=24, n_splits=5, model=flat_rf, shuffle=True).mean()\n",
    "\n",
    "    return score"
   ]
  },
  {
   "cell_type": "code",
   "execution_count": null,
   "id": "bebf1bff-de3a-4915-9ff5-eee131a4480a",
   "metadata": {
    "execution": {
     "iopub.status.busy": "2024-08-12T20:59:06.323061Z",
     "iopub.status.idle": "2024-08-12T20:59:06.323337Z",
     "shell.execute_reply": "2024-08-12T20:59:06.323218Z",
     "shell.execute_reply.started": "2024-08-12T20:59:06.323206Z"
    }
   },
   "outputs": [],
   "source": [
    "# Create a study\n",
    "study_frf = optuna.create_study(direction=\"maximize\", \n",
    "                                sampler=optuna.samplers.TPESampler(42))\n",
    "\n",
    "# Perform tuning\n",
    "study_frf.optimize(objective_frf, n_trials=100)"
   ]
  },
  {
   "cell_type": "code",
   "execution_count": null,
   "id": "a32f64ee-0f83-4675-aa31-5b9e0c45c2fe",
   "metadata": {
    "execution": {
     "iopub.status.busy": "2024-08-12T20:59:06.324045Z",
     "iopub.status.idle": "2024-08-12T20:59:06.324308Z",
     "shell.execute_reply": "2024-08-12T20:59:06.324188Z",
     "shell.execute_reply.started": "2024-08-12T20:59:06.324177Z"
    }
   },
   "outputs": [],
   "source": [
    "#best_param_frf = study_frf.best_params\n",
    "#print(best_param_frf)\n",
    "\n",
    "best_frf = RandomForestClassifier(**{'n_estimators': 123, \n",
    "                                     'max_depth': 43, \n",
    "                                     'min_samples_split': 2, \n",
    "                                     'min_samples_leaf': 1},\n",
    "                                  random_state=24, \n",
    "                                  n_jobs=-1)\n",
    "\n",
    "best_flat_rf = FlatClassifier(local_classifier=best_frf)\n",
    "\n",
    "best_flat_rf.fit(b_train_X_full, b_train_y_full)\n",
    "best_flat_rf_pred = best_flat_rf.predict(t_test_X)\n",
    "best_flat_rf_f1 = f1(t_test_y, best_flat_rf_pred)\n",
    "\n",
    "print(\"The final F1 value for flat rf is: \", round(best_flat_rf_f1, 4))"
   ]
  },
  {
   "cell_type": "markdown",
   "id": "0e4059b7-750d-420a-a7a6-c924206f9f1f",
   "metadata": {},
   "source": [
    "{'n_estimators': 123, 'max_depth': 43, 'min_samples_split': 2, 'min_samples_leaf': 1}"
   ]
  },
  {
   "cell_type": "code",
   "execution_count": null,
   "id": "f4d08def-cb30-4aa1-8952-d55220626cc1",
   "metadata": {
    "execution": {
     "iopub.status.busy": "2024-08-12T20:59:06.325091Z",
     "iopub.status.idle": "2024-08-12T20:59:06.325339Z",
     "shell.execute_reply": "2024-08-12T20:59:06.325220Z",
     "shell.execute_reply.started": "2024-08-12T20:59:06.325209Z"
    }
   },
   "outputs": [],
   "source": [
    "# 5-fold cross validation\n",
    "cv_f1(x=b_train_X_full, y=b_train_y_full, random_state=42, n_splits=5, model=best_flat_rf, shuffle=True).mean()"
   ]
  },
  {
   "cell_type": "code",
   "execution_count": null,
   "id": "036fceba-b55b-4adc-94ad-5653f65c969e",
   "metadata": {
    "execution": {
     "iopub.status.busy": "2024-08-12T20:59:06.326130Z",
     "iopub.status.idle": "2024-08-12T20:59:06.326390Z",
     "shell.execute_reply": "2024-08-12T20:59:06.326271Z",
     "shell.execute_reply.started": "2024-08-12T20:59:06.326259Z"
    }
   },
   "outputs": [],
   "source": [
    "# Evaluations for Flat-Random Forest\n",
    "frf_f1 = f1_score(t_test_y[:, -1].tolist(), best_flat_rf_pred[:, -1].tolist(), average=\"macro\")\n",
    "frf_ppv = precision_score(t_test_y[:, -1].tolist(), best_flat_rf_pred[:, -1].tolist(), average=\"macro\")\n",
    "frf_rec = recall_score(t_test_y[:, -1].tolist(), best_flat_rf_pred[:, -1].tolist(), average=\"macro\")\n",
    "frf_acc = accuracy_score(t_test_y[:, -1].tolist(), best_flat_rf_pred[:, -1].tolist())\n",
    "\n",
    "print(\"{:<10} {:<10} {:<10} {:<10}\".format(\n",
    "        \"F1\", \"PPV\", \"REC\", \"ACC\"))\n",
    "print(\"{:<10.4f} {:<10.4f} {:<10.4f} {:<10.4f}\".format(\n",
    "        frf_f1, frf_ppv, frf_rec, frf_acc))"
   ]
  },
  {
   "cell_type": "markdown",
   "id": "2524426c-2fc4-4a02-ac2a-7b5f34aa4c88",
   "metadata": {},
   "source": [
    "# Further analysis\n",
    "Evaluation of LCN-LightGBM at different levels"
   ]
  },
  {
   "cell_type": "code",
   "execution_count": 48,
   "id": "5e42c53c-4aef-4747-aa90-d59e902db75b",
   "metadata": {
    "execution": {
     "iopub.execute_input": "2024-08-12T21:00:49.594362Z",
     "iopub.status.busy": "2024-08-12T21:00:49.594066Z",
     "iopub.status.idle": "2024-08-12T21:00:49.633866Z",
     "shell.execute_reply": "2024-08-12T21:00:49.633142Z",
     "shell.execute_reply.started": "2024-08-12T21:00:49.594340Z"
    }
   },
   "outputs": [],
   "source": [
    "# Extract different GICS levels\n",
    "\n",
    "# Training sets\n",
    "b_train_y3 = b_train_y_full[:, 0:3] # 3 levels (6 digits)\n",
    "b_train_y2 = b_train_y_full[:, 0:2] # 2 levels (4 digits)\n",
    "b_train_y1 = b_train_y_full[:, 0:1] # 1 level (2 digits)\n",
    "\n",
    "# Test sets\n",
    "t_test_y3 = t_test_y[:, 0:3] # 3 levels (6 digits)\n",
    "t_test_y2 = t_test_y[:, 0:2] # 2 levels (4 digits)\n",
    "t_test_y1 = t_test_y[:, 0:1] # 1 level (2 digits)"
   ]
  },
  {
   "cell_type": "code",
   "execution_count": 49,
   "id": "37b3bf11-7120-4789-9681-979d888344a9",
   "metadata": {
    "execution": {
     "iopub.execute_input": "2024-08-12T21:00:49.635042Z",
     "iopub.status.busy": "2024-08-12T21:00:49.634725Z",
     "iopub.status.idle": "2024-08-12T21:01:43.200509Z",
     "shell.execute_reply": "2024-08-12T21:01:43.199378Z",
     "shell.execute_reply.started": "2024-08-12T21:00:49.635012Z"
    },
    "scrolled": true
   },
   "outputs": [
    {
     "name": "stdout",
     "output_type": "stream",
     "text": [
      "F1         PPV        REC        ACC        MCC        TP         TN         FP         FN        \n",
      "0.7419     0.7419     0.7419     0.8911     0.6729     36375      170783     12653      12653     \n"
     ]
    }
   ],
   "source": [
    "# 4 levels\n",
    "best_lcpn_lgb_l4 = best_lcpn_lgb.fit(b_train_X_full, b_train_y_full)\n",
    "h_confusion_matrix(best_lcpn_lgb_l4, \"all\")"
   ]
  },
  {
   "cell_type": "code",
   "execution_count": 51,
   "id": "01107426-bdf4-4335-9c6d-41fe2a1e71ee",
   "metadata": {
    "execution": {
     "iopub.execute_input": "2024-08-12T21:02:23.999038Z",
     "iopub.status.busy": "2024-08-12T21:02:23.998636Z",
     "iopub.status.idle": "2024-08-12T21:02:57.296709Z",
     "shell.execute_reply": "2024-08-12T21:02:57.295739Z",
     "shell.execute_reply.started": "2024-08-12T21:02:23.999004Z"
    }
   },
   "outputs": [
    {
     "name": "stdout",
     "output_type": "stream",
     "text": [
      "F1         PPV        REC        ACC        MCC        TP         TN         FP         FN        \n",
      "0.7624     0.7624     0.7624     0.9130     0.7092     28036      155400     8735       8735      \n"
     ]
    }
   ],
   "source": [
    "# 3 levels\n",
    "best_lcpn_lgb_l3 = best_lcpn_lgb.fit(b_train_X_full, b_train_y3)\n",
    "h_confusion_matrix(best_lcpn_lgb_l3, \"all\", depth=3)"
   ]
  },
  {
   "cell_type": "code",
   "execution_count": 52,
   "id": "07cf34d5-4a52-41a1-83d6-dc2c4168752c",
   "metadata": {
    "execution": {
     "iopub.execute_input": "2024-08-12T21:02:57.298552Z",
     "iopub.status.busy": "2024-08-12T21:02:57.298320Z",
     "iopub.status.idle": "2024-08-12T21:03:14.581587Z",
     "shell.execute_reply": "2024-08-12T21:03:14.580685Z",
     "shell.execute_reply.started": "2024-08-12T21:02:57.298530Z"
    }
   },
   "outputs": [
    {
     "name": "stdout",
     "output_type": "stream",
     "text": [
      "F1         PPV        REC        ACC        MCC        TP         TN         FP         FN        \n",
      "0.7881     0.7881     0.7881     0.9369     0.7510     19320      134877     5194       5194      \n"
     ]
    }
   ],
   "source": [
    "# 2 level\n",
    "best_lcpn_lgb_l2 = best_lcpn_lgb.fit(b_train_X_full, b_train_y2)\n",
    "h_confusion_matrix(best_lcpn_lgb_l2, \"all\", depth=2)"
   ]
  },
  {
   "cell_type": "code",
   "execution_count": 53,
   "id": "61809df7-fc0a-4516-9bbf-a9c80772a823",
   "metadata": {
    "execution": {
     "iopub.execute_input": "2024-08-12T21:03:14.582606Z",
     "iopub.status.busy": "2024-08-12T21:03:14.582398Z",
     "iopub.status.idle": "2024-08-12T21:03:14.617439Z",
     "shell.execute_reply": "2024-08-12T21:03:14.615859Z",
     "shell.execute_reply.started": "2024-08-12T21:03:14.582586Z"
    }
   },
   "outputs": [],
   "source": [
    "# Adjust confusion matrix function for 1-level GICS\n",
    "\n",
    "# Add root to the predictions\n",
    "def add_root2(array):\n",
    "    # Convert the 1D array to a 2D array\n",
    "    if array.ndim == 1:\n",
    "        array = array[:, np.newaxis]\n",
    "    \n",
    "    root = np.full((array.shape[0], 1), 'root', dtype=object)\n",
    "    \n",
    "    # Concatenate the new column to the original array\n",
    "    new_array = np.hstack((root, array))\n",
    "    \n",
    "    return new_array\n",
    "\n",
    "# Function to generate confusion matrix for 1 level GICS\n",
    "def h_confusion_matrix2(model, metrics, depth=4):\n",
    "    \n",
    "    pred_y = model.predict(t_test_X)\n",
    "    full_pred_y = add_root2(pred_y)\n",
    "\n",
    "    graph = extract_hierarchy(model)\n",
    "    \n",
    "    evalLabel_data = {}\n",
    "    for i in range(len(test_y)):\n",
    "        evalLabel_data[i] = {\"true\": [t_test_y[:, depth-1][i]],\n",
    "                             \"pred\": [full_pred_y[i].tolist()]}\n",
    "\n",
    "    h_confusion = {}\n",
    "    h_confusion_total = []\n",
    "    for key in evalLabel_data:\n",
    "        try:\n",
    "            h_confusion[key] = determineHierarchicalConfusionMatrix(graph, evalLabel_data[key][\"true\"], evalLabel_data[key][\"pred\"])\n",
    "            h_confusion_total.append(h_confusion[key])\n",
    "        except KeyError as e:\n",
    "            print(f\"Skipping key {key} due to missing data: {e}\")\n",
    "            print(evalLabel_data[key])\n",
    "        except Exception as e:\n",
    "            print(f\"Skipping key {key} due to an error: {e}\")\n",
    "            print(evalLabel_data[key])\n",
    "    h_confusion_total = np.sum(np.asarray(h_confusion_total),axis=0)\n",
    "\n",
    "    if metrics == \"all\":\n",
    "        F1, PPV, REC, ACC, MCC = eva_metrics(h_confusion_total, \"all\")\n",
    "\n",
    "        print(\"{:<10} {:<10} {:<10} {:<10} {:<10} {:<10} {:<10} {:<10} {:<10}\".format(\n",
    "        \"F1\", \"PPV\", \"REC\", \"ACC\", \"MCC\", \"TP\", \"TN\", \"FP\", \"FN\"))\n",
    "        print(\"{:<10.4f} {:<10.4f} {:<10.4f} {:<10.4f} {:<10.4f} {:<10} {:<10} {:<10} {:<10}\".format(\n",
    "        F1, PPV, REC, ACC, MCC, h_confusion_total[0], h_confusion_total[1], h_confusion_total[2], h_confusion_total[3]))\n",
    "    else:\n",
    "        return eva_metrics(h_confusion_total, metrics)"
   ]
  },
  {
   "cell_type": "code",
   "execution_count": 54,
   "id": "626e1485-dce9-48e2-b6cb-0fa7bcce4591",
   "metadata": {
    "execution": {
     "iopub.execute_input": "2024-08-12T21:03:14.618746Z",
     "iopub.status.busy": "2024-08-12T21:03:14.618543Z",
     "iopub.status.idle": "2024-08-12T21:03:24.695067Z",
     "shell.execute_reply": "2024-08-12T21:03:24.694225Z",
     "shell.execute_reply.started": "2024-08-12T21:03:14.618728Z"
    },
    "scrolled": true
   },
   "outputs": [
    {
     "name": "stdout",
     "output_type": "stream",
     "text": [
      "F1         PPV        REC        ACC        MCC        TP         TN         FP         FN        \n",
      "0.8109     0.8109     0.8109     0.9656     0.7920     9939       120252     2318       2318      \n"
     ]
    }
   ],
   "source": [
    "# 1 level\n",
    "best_lcpn_lgb_l1 = best_lcpn_lgb.fit(b_train_X_full, b_train_y1)\n",
    "h_confusion_matrix2(best_lcpn_lgb_l1, \"all\", depth=1)"
   ]
  },
  {
   "cell_type": "code",
   "execution_count": null,
   "id": "54f612f3-b88f-4088-870c-62ca024d6f0b",
   "metadata": {},
   "outputs": [],
   "source": []
  }
 ],
 "metadata": {
  "kernelspec": {
   "display_name": "Python 3 (ipykernel)",
   "language": "python",
   "name": "python3"
  },
  "language_info": {
   "codemirror_mode": {
    "name": "ipython",
    "version": 3
   },
   "file_extension": ".py",
   "mimetype": "text/x-python",
   "name": "python",
   "nbconvert_exporter": "python",
   "pygments_lexer": "ipython3",
   "version": "3.11.9"
  }
 },
 "nbformat": 4,
 "nbformat_minor": 5
}
